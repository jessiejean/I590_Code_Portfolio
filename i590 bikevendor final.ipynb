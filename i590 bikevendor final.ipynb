{
 "cells": [
  {
   "cell_type": "markdown",
   "metadata": {},
   "source": [
    "# i590 Final Report (BikeVendor): Jessica Johnson"
   ]
  },
  {
   "cell_type": "markdown",
   "metadata": {},
   "source": [
    "This report is an analysis of differnt models that are sold by various bike vendors. \n",
    "There are 96 different bike models that are sold by 30 different vendors.\n",
    "Model, category1, category2, and frame are objects, price is an integer, and the vendor values are floats.\n",
    "The value of the bike vendor columns represent eh percentage of the stock of that bike in comparison to other bikes in the shop.\n",
    "\n",
    "Analysis of range and disperity of integer and float variables:\n",
    "Price: Data is skewed left with a mean of 3953, min of 415 and a max of 12790\n",
    "Category1 has 2 values: Mountain and Road\n",
    "Category 2 has 9 different values\n",
    "Frame has 2 different values: Aluminum and carbon.\n",
    "\n",
    "Preprocessing will consist of potentially removing outliers. There are no null values so imputation is not a concern.\n",
    "\n",
    "It would be intersting to see what affects the prices of bikes."
   ]
  },
  {
   "cell_type": "code",
   "execution_count": 109,
   "metadata": {},
   "outputs": [
    {
     "name": "stdout",
     "output_type": "stream",
     "text": [
      "<class 'pandas.core.frame.DataFrame'>\n",
      "RangeIndex: 97 entries, 0 to 96\n",
      "Data columns (total 35 columns):\n",
      "model                           97 non-null object\n",
      "category1                       97 non-null object\n",
      "category2                       97 non-null object\n",
      "frame                           97 non-null object\n",
      "price                           97 non-null int64\n",
      "Albuquerque Cycles              97 non-null float64\n",
      "Ann Arbor Speed                 97 non-null float64\n",
      "Austin Cruisers                 97 non-null float64\n",
      "Cincinnati Speed                97 non-null float64\n",
      "Columbus Race Equipment         97 non-null float64\n",
      "Dallas Cycles                   97 non-null float64\n",
      "Denver Bike Shop                97 non-null float64\n",
      "Detroit Cycles                  97 non-null float64\n",
      "Indianapolis Velocipedes        97 non-null float64\n",
      "Ithaca Mountain Climbers        97 non-null float64\n",
      "Kansas City 29ers               97 non-null float64\n",
      "Las Vegas Cycles                97 non-null float64\n",
      "Los Angeles Cycles              97 non-null float64\n",
      "Louisville Race Equipment       97 non-null float64\n",
      "Miami Race Equipment            97 non-null float64\n",
      "Minneapolis Bike Shop           97 non-null float64\n",
      "Nashville Cruisers              97 non-null float64\n",
      "New Orleans Velocipedes         97 non-null float64\n",
      "New York Cycles                 97 non-null float64\n",
      "Oklahoma City Race Equipment    97 non-null float64\n",
      "Philadelphia Bike Shop          97 non-null float64\n",
      "Phoenix Bi-peds                 97 non-null float64\n",
      "Pittsburgh Mountain Machines    97 non-null float64\n",
      "Portland Bi-peds                97 non-null float64\n",
      "Providence Bi-peds              97 non-null float64\n",
      "San Antonio Bike Shop           97 non-null float64\n",
      "San Francisco Cruisers          97 non-null float64\n",
      "Seattle Race Equipment          97 non-null float64\n",
      "Tampa 29ers                     97 non-null float64\n",
      "Wichita Speed                   97 non-null float64\n",
      "dtypes: float64(30), int64(1), object(4)\n",
      "memory usage: 26.6+ KB\n"
     ]
    }
   ],
   "source": [
    "#import libraries\n",
    "import pandas as pd\n",
    "from pandas.plotting import scatter_matrix\n",
    "import numpy as np\n",
    "import seaborn as sns\n",
    "from sklearn.cluster import KMeans\n",
    "from sklearn.preprocessing import LabelEncoder\n",
    "from sklearn import linear_model\n",
    "import statsmodels.api as sm\n",
    "import matplotlib.pyplot as plt\n",
    "%matplotlib inline\n",
    "\n",
    "#import data\n",
    "df = pd.read_csv(\"C:/Users/hp/Downloads/bikevendors.csv\")\n",
    "\n",
    "#get summary information on dataset\n",
    "df.info()"
   ]
  },
  {
   "cell_type": "code",
   "execution_count": 79,
   "metadata": {},
   "outputs": [
    {
     "name": "stdout",
     "output_type": "stream",
     "text": [
      "count       97.000000\n",
      "mean      3953.762887\n",
      "std       2871.891710\n",
      "min        415.000000\n",
      "25%       1950.000000\n",
      "50%       3200.000000\n",
      "75%       5330.000000\n",
      "max      12790.000000\n",
      "Name: price, dtype: float64\n"
     ]
    }
   ],
   "source": [
    "#obtain statistical information on numerical variable\n",
    "print(df.price.describe())"
   ]
  },
  {
   "cell_type": "code",
   "execution_count": 48,
   "metadata": {},
   "outputs": [
    {
     "data": {
      "text/plain": [
       "(array([18., 28., 16., 13.,  7.,  4.,  5.,  1.,  2.,  3.]),\n",
       " array([  415. ,  1652.5,  2890. ,  4127.5,  5365. ,  6602.5,  7840. ,\n",
       "         9077.5, 10315. , 11552.5, 12790. ]),\n",
       " <a list of 10 Patch objects>)"
      ]
     },
     "execution_count": 48,
     "metadata": {},
     "output_type": "execute_result"
    },
    {
     "data": {
      "image/png": "[encoded data removed]",
      "text/plain": [
       "<Figure size 432x288 with 1 Axes>"
      ]
     },
     "metadata": {
      "needs_background": "light"
     },
     "output_type": "display_data"
    }
   ],
   "source": [
    "#Show distribution of prices\n",
    "plt.title('Histogram of Bike Prices')\n",
    "plt.xlabel('Prices')\n",
    "plt.ylabel('Frequency')\n",
    "plt.hist(df.price, bins=10) "
   ]
  },
  {
   "cell_type": "code",
   "execution_count": 80,
   "metadata": {},
   "outputs": [
    {
     "data": {
      "text/plain": [
       "Text(0.5,1,'Count Plot of Category1 and Category2')"
      ]
     },
     "execution_count": 80,
     "metadata": {},
     "output_type": "execute_result"
    },
    {
     "data": {
      "image/png": "[encoded data removed]",
      "text/plain": [
       "<Figure size 432x288 with 1 Axes>"
      ]
     },
     "metadata": {
      "needs_background": "light"
     },
     "output_type": "display_data"
    }
   ],
   "source": [
    "#Count of Category2 grouped by category1\n",
    "sns.countplot(y=\"category2\", hue=\"category1\", data=df).set_title('Count Plot of Category1 and Category2')"
   ]
  },
  {
   "cell_type": "code",
   "execution_count": 83,
   "metadata": {},
   "outputs": [],
   "source": [
    "#Change categorical variable to numeric\n",
    "lb_make = LabelEncoder()\n",
    "df['category2'] = lb_make.fit_transform(df['category2'])"
   ]
  },
  {
   "cell_type": "code",
   "execution_count": 84,
   "metadata": {},
   "outputs": [],
   "source": [
    "#Linear regression: create dependent and independent variables \n",
    "y = df.price\n",
    "X = df.category2"
   ]
  },
  {
   "cell_type": "code",
   "execution_count": 85,
   "metadata": {},
   "outputs": [],
   "source": [
    "#reshape X and y\n",
    "y = y.values.reshape(-1,1)\n",
    "X = X.values.reshape(-1,1)"
   ]
  },
  {
   "cell_type": "code",
   "execution_count": 88,
   "metadata": {},
   "outputs": [],
   "source": [
    "# Create the regression model\n",
    "reg = linear_model.LinearRegression()"
   ]
  },
  {
   "cell_type": "code",
   "execution_count": 89,
   "metadata": {},
   "outputs": [],
   "source": [
    "#Create prediction variable\n",
    "pred = np.linspace(min(X), max(X)).reshape(-1,1)"
   ]
  },
  {
   "cell_type": "code",
   "execution_count": 108,
   "metadata": {},
   "outputs": [
    {
     "name": "stdout",
     "output_type": "stream",
     "text": [
      "                            OLS Regression Results                            \n",
      "==============================================================================\n",
      "Dep. Variable:                      y   R-squared:                       0.327\n",
      "Model:                            OLS   Adj. R-squared:                  0.320\n",
      "Method:                 Least Squares   F-statistic:                     46.60\n",
      "Date:                Fri, 13 Dec 2019   Prob (F-statistic):           7.85e-10\n",
      "Time:                        03:00:15   Log-Likelihood:                -942.22\n",
      "No. Observations:                  97   AIC:                             1886.\n",
      "Df Residuals:                      96   BIC:                             1889.\n",
      "Df Model:                           1                                         \n",
      "Covariance Type:            nonrobust                                         \n",
      "==============================================================================\n",
      "                 coef    std err          t      P>|t|      [0.025      0.975]\n",
      "------------------------------------------------------------------------------\n",
      "x1           657.4613     96.309      6.827      0.000     466.289     848.634\n",
      "==============================================================================\n",
      "Omnibus:                       11.235   Durbin-Watson:                   0.773\n",
      "Prob(Omnibus):                  0.004   Jarque-Bera (JB):               11.625\n",
      "Skew:                           0.821   Prob(JB):                      0.00299\n",
      "Kurtosis:                       3.421   Cond. No.                         1.00\n",
      "==============================================================================\n",
      "\n",
      "Warnings:\n",
      "[1] Standard Errors assume that the covariance matrix of the errors is correctly specified.\n"
     ]
    }
   ],
   "source": [
    "# Fit and summarize OLS model\n",
    "mod = sm.OLS(y, X)\n",
    "regfit = mod.fit()\n",
    "print(regfit.summary())"
   ]
  },
  {
   "cell_type": "markdown",
   "metadata": {},
   "source": [
    "Summary table show that there isn't a significant relationship between the x and y variables as the r2 figure is low."
   ]
  },
  {
   "cell_type": "code",
   "execution_count": 96,
   "metadata": {},
   "outputs": [],
   "source": [
    "#Compute predictions over y_pred\n",
    "y_pred = reg.predict(pred)"
   ]
  },
  {
   "cell_type": "code",
   "execution_count": 97,
   "metadata": {},
   "outputs": [
    {
     "name": "stdout",
     "output_type": "stream",
     "text": [
      "0.0416687642872684\n"
     ]
    }
   ],
   "source": [
    "#print r2 score\n",
    "print(reg.score(X, y))"
   ]
  },
  {
   "cell_type": "code",
   "execution_count": 93,
   "metadata": {},
   "outputs": [
    {
     "data": {
      "image/png": "[encoded data removed]",
      "text/plain": [
       "<Figure size 432x288 with 1 Axes>"
      ]
     },
     "metadata": {
      "needs_background": "light"
     },
     "output_type": "display_data"
    }
   ],
   "source": [
    "# Plot regression line\n",
    "plt.plot(pred, y_pred, color='black', linewidth=3)\n",
    "plt.show()"
   ]
  },
  {
   "cell_type": "code",
   "execution_count": 104,
   "metadata": {},
   "outputs": [
    {
     "ename": "AttributeError",
     "evalue": "'LinearRegression' object has no attribute 'summary'",
     "output_type": "error",
     "traceback": [
      "\u001b[1;31m---------------------------------------------------------------------------\u001b[0m",
      "\u001b[1;31mAttributeError\u001b[0m                            Traceback (most recent call last)",
      "\u001b[1;32m<ipython-input-104-c9c05bf46a14>\u001b[0m in \u001b[0;36m<module>\u001b[1;34m()\u001b[0m\n\u001b[1;32m----> 1\u001b[1;33m \u001b[0mprint\u001b[0m\u001b[1;33m(\u001b[0m\u001b[0mregfit\u001b[0m\u001b[1;33m.\u001b[0m\u001b[0msummary\u001b[0m\u001b[1;33m(\u001b[0m\u001b[1;33m)\u001b[0m\u001b[1;33m)\u001b[0m\u001b[1;33m\u001b[0m\u001b[0m\n\u001b[0m",
      "\u001b[1;31mAttributeError\u001b[0m: 'LinearRegression' object has no attribute 'summary'"
     ]
    }
   ],
   "source": [
    " print(regfit.summary())"
   ]
  }
 ],
 "metadata": {
  "kernelspec": {
   "display_name": "Python 3",
   "language": "python",
   "name": "python3"
  },
  "language_info": {
   "codemirror_mode": {
    "name": "ipython",
    "version": 3
   },
   "file_extension": ".py",
   "mimetype": "text/x-python",
   "name": "python",
   "nbconvert_exporter": "python",
   "pygments_lexer": "ipython3",
   "version": "3.7.0"
  }
 },
 "nbformat": 4,
 "nbformat_minor": 2
}
