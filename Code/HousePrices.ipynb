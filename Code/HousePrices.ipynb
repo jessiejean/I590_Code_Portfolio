{
 "cells": [
  {
   "cell_type": "code",
   "execution_count": 1,
   "metadata": {},
   "outputs": [],
   "source": [
    "# the codes in Module 4\n",
    "# load data\n",
    "import pandas as pd\n",
    "train_data = pd.read_csv('C:/Users/hp/Documents/Kaggle class/house prices/train.csv')\n",
    "test_data = pd.read_csv('C:/Users/hp/Documents/Kaggle class/house prices/test.csv')\n",
    "# take target out of training set\n",
    "Y = train_data['SalePrice']\n",
    "train_data = train_data.drop(['SalePrice'], axis=1)"
   ]
  },
  {
   "cell_type": "code",
   "execution_count": 2,
   "metadata": {},
   "outputs": [],
   "source": [
    "# from now on, let's process missing values\n",
    "def countMissing(data):\n",
    "    missing = data.columns[data.isnull().any()].tolist()\n",
    "    return missing\n",
    "misTrain = countMissing(train_data)\n",
    "misTest = countMissing(test_data)\n",
    "misTotal = list(set().union(misTrain, misTest))"
   ]
  },
  {
   "cell_type": "code",
   "execution_count": 3,
   "metadata": {},
   "outputs": [
    {
     "name": "stdout",
     "output_type": "stream",
     "text": [
      "['LotFrontage', 'Alley', 'MasVnrType', 'MasVnrArea', 'BsmtQual', 'BsmtCond', 'BsmtExposure', 'BsmtFinType1', 'BsmtFinType2', 'Electrical', 'FireplaceQu', 'GarageType', 'GarageYrBlt', 'GarageFinish', 'GarageQual', 'GarageCond', 'PoolQC', 'Fence', 'MiscFeature'] 19\n"
     ]
    }
   ],
   "source": [
    "print(misTrain, len(misTrain))"
   ]
  },
  {
   "cell_type": "code",
   "execution_count": 4,
   "metadata": {},
   "outputs": [
    {
     "name": "stdout",
     "output_type": "stream",
     "text": [
      "['MSZoning', 'LotFrontage', 'Alley', 'Utilities', 'Exterior1st', 'Exterior2nd', 'MasVnrType', 'MasVnrArea', 'BsmtQual', 'BsmtCond', 'BsmtExposure', 'BsmtFinType1', 'BsmtFinSF1', 'BsmtFinType2', 'BsmtFinSF2', 'BsmtUnfSF', 'TotalBsmtSF', 'BsmtFullBath', 'BsmtHalfBath', 'KitchenQual', 'Functional', 'FireplaceQu', 'GarageType', 'GarageYrBlt', 'GarageFinish', 'GarageCars', 'GarageArea', 'GarageQual', 'GarageCond', 'PoolQC', 'Fence', 'MiscFeature', 'SaleType'] 33\n"
     ]
    }
   ],
   "source": [
    "print(misTest, len(misTest))"
   ]
  },
  {
   "cell_type": "code",
   "execution_count": 5,
   "metadata": {},
   "outputs": [
    {
     "name": "stdout",
     "output_type": "stream",
     "text": [
      "['Exterior1st', 'BsmtFullBath', 'KitchenQual', 'BsmtQual', 'GarageCars', 'BsmtFinType2', 'GarageFinish', 'BsmtCond', 'BsmtHalfBath', 'LotFrontage', 'PoolQC', 'GarageArea', 'MSZoning', 'SaleType', 'TotalBsmtSF', 'GarageType', 'BsmtFinSF1', 'Alley', 'GarageQual', 'MasVnrArea', 'GarageYrBlt', 'BsmtUnfSF', 'Exterior2nd', 'Utilities', 'BsmtExposure', 'Fence', 'MasVnrType', 'GarageCond', 'BsmtFinSF2', 'Functional', 'BsmtFinType1', 'MiscFeature', 'Electrical', 'FireplaceQu'] 34\n"
     ]
    }
   ],
   "source": [
    "print(misTotal, len(misTotal))"
   ]
  },
  {
   "cell_type": "code",
   "execution_count": 6,
   "metadata": {},
   "outputs": [],
   "source": [
    "def exploreData(data, column):\n",
    "    return data[column].value_counts()\n",
    "def imputation(data, column, value):\n",
    "    data.loc[data[column].isnull(), column] = value"
   ]
  },
  {
   "cell_type": "code",
   "execution_count": 7,
   "metadata": {},
   "outputs": [
    {
     "name": "stdout",
     "output_type": "stream",
     "text": [
      "MSZoning    C (all)  FV  RH   RL  RM\n",
      "MSSubClass                          \n",
      "20                1  21   1  508  10\n",
      "30                6   0   1   28  34\n",
      "40                0   0   0    2   0\n",
      "45                0   0   0    2   4\n",
      "50                3   0   1   71  68\n",
      "60                0  18   0  256   2\n",
      "70                3   0   0   27  37\n",
      "75                0   0   0    3   4\n",
      "80                0   0   0   57   3\n",
      "85                0   0   0   27   1\n",
      "90                0   0   1   49   7\n",
      "120               0  14   4   58  19\n",
      "150               0   0   0    1   0\n",
      "160               0  21   0   10  34\n",
      "180               0   0   0    0   7\n",
      "190               2   0   2   15  12\n"
     ]
    }
   ],
   "source": [
    "print(pd.crosstab(test_data.MSSubClass, test_data.MSZoning))"
   ]
  },
  {
   "cell_type": "code",
   "execution_count": 8,
   "metadata": {},
   "outputs": [
    {
     "name": "stdout",
     "output_type": "stream",
     "text": [
      "        Id  MSSubClass MSZoning  LotFrontage  LotArea Street Alley LotShape  \\\n",
      "455   1916          30      NaN        109.0    21780   Grvl   NaN      Reg   \n",
      "756   2217          20      NaN         80.0    14584   Pave   NaN      Reg   \n",
      "790   2251          70      NaN          NaN    56600   Pave   NaN      IR1   \n",
      "1444  2905          20      NaN        125.0    31250   Pave   NaN      Reg   \n",
      "\n",
      "     LandContour Utilities      ...       ScreenPorch PoolArea PoolQC Fence  \\\n",
      "455          Lvl       NaN      ...                 0        0    NaN   NaN   \n",
      "756          Low    AllPub      ...                 0        0    NaN   NaN   \n",
      "790          Low    AllPub      ...                 0        0    NaN   NaN   \n",
      "1444         Lvl    AllPub      ...                 0        0    NaN   NaN   \n",
      "\n",
      "     MiscFeature MiscVal MoSold  YrSold  SaleType  SaleCondition  \n",
      "455          NaN       0      3    2009     ConLD         Normal  \n",
      "756          NaN       0      2    2008        WD        Abnorml  \n",
      "790          NaN       0      1    2008        WD         Normal  \n",
      "1444         NaN       0      5    2006        WD         Normal  \n",
      "\n",
      "[4 rows x 80 columns]\n"
     ]
    }
   ],
   "source": [
    "print(test_data[test_data['MSZoning'].isnull() == True])"
   ]
  },
  {
   "cell_type": "code",
   "execution_count": 9,
   "metadata": {},
   "outputs": [],
   "source": [
    "test_data.loc[(test_data['MSZoning'].isnull()) & (test_data['MSSubClass']==20), 'MSZoning'] = 'RL'\n",
    "test_data.loc[(test_data['MSZoning'].isnull()) & (test_data['MSSubClass']==30), 'MSZoning'] = 'RM'\n",
    "test_data.loc[(test_data['MSZoning'].isnull()) & (test_data['MSSubClass']==70), 'MSZoning'] = 'RM'"
   ]
  },
  {
   "cell_type": "code",
   "execution_count": 10,
   "metadata": {},
   "outputs": [
    {
     "name": "stdout",
     "output_type": "stream",
     "text": [
      "Empty DataFrame\n",
      "Columns: [Id, MSSubClass, MSZoning, LotFrontage, LotArea, Street, Alley, LotShape, LandContour, Utilities, LotConfig, LandSlope, Neighborhood, Condition1, Condition2, BldgType, HouseStyle, OverallQual, OverallCond, YearBuilt, YearRemodAdd, RoofStyle, RoofMatl, Exterior1st, Exterior2nd, MasVnrType, MasVnrArea, ExterQual, ExterCond, Foundation, BsmtQual, BsmtCond, BsmtExposure, BsmtFinType1, BsmtFinSF1, BsmtFinType2, BsmtFinSF2, BsmtUnfSF, TotalBsmtSF, Heating, HeatingQC, CentralAir, Electrical, 1stFlrSF, 2ndFlrSF, LowQualFinSF, GrLivArea, BsmtFullBath, BsmtHalfBath, FullBath, HalfBath, BedroomAbvGr, KitchenAbvGr, KitchenQual, TotRmsAbvGrd, Functional, Fireplaces, FireplaceQu, GarageType, GarageYrBlt, GarageFinish, GarageCars, GarageArea, GarageQual, GarageCond, PavedDrive, WoodDeckSF, OpenPorchSF, EnclosedPorch, 3SsnPorch, ScreenPorch, PoolArea, PoolQC, Fence, MiscFeature, MiscVal, MoSold, YrSold, SaleType, SaleCondition]\n",
      "Index: []\n",
      "\n",
      "[0 rows x 80 columns]\n"
     ]
    }
   ],
   "source": [
    "print(test_data[test_data['MSZoning'].isnull() == True])"
   ]
  },
  {
   "cell_type": "code",
   "execution_count": 11,
   "metadata": {},
   "outputs": [
    {
     "name": "stdout",
     "output_type": "stream",
     "text": [
      "        Id  MSSubClass MSZoning  LotFrontage  LotArea Street Alley LotShape  \\\n",
      "6     1467          20       RL          NaN     7980   Pave   NaN      IR1   \n",
      "40    1501         160       FV          NaN     2980   Pave   NaN      Reg   \n",
      "41    1502         160       FV          NaN     2403   Pave   NaN      IR1   \n",
      "45    1506          20       RL          NaN    10456   Pave   NaN      IR1   \n",
      "47    1508          50       RL          NaN    18837   Pave   NaN      IR1   \n",
      "52    1513          80       RL          NaN    10600   Pave  Pave      IR1   \n",
      "59    1520          20       RL          NaN     8050   Pave   NaN      IR1   \n",
      "75    1536          50       RM          NaN     8239   Pave   NaN      Reg   \n",
      "82    1543          75       RL          NaN     7793   Pave   NaN      IR1   \n",
      "98    1559          70  C (all)          NaN     6449   Pave   NaN      IR1   \n",
      "103   1564          90       RL          NaN     7424   Pave   NaN      IR1   \n",
      "105   1566          20       RL          NaN    20062   Pave   NaN      IR1   \n",
      "107   1568          60       RL          NaN    17082   Pave   NaN      IR1   \n",
      "113   1574          20       RL          NaN    11200   Pave   NaN      IR1   \n",
      "119   1580          60       RL          NaN     9337   Pave   NaN      IR1   \n",
      "124   1585         120       RM          NaN     4435   Pave   NaN      Reg   \n",
      "132   1593          30       RL          NaN     7890   Pave   NaN      Reg   \n",
      "146   1607          90       RL          NaN    12760   Pave   NaN      IR1   \n",
      "152   1613          20       RL          NaN    11875   Pave   NaN      Reg   \n",
      "167   1628          60       RL          NaN    11792   Pave   NaN      IR1   \n",
      "174   1635          60       RL          NaN     8803   Pave   NaN      IR1   \n",
      "177   1638          60       RL          NaN    13250   Pave   NaN      IR1   \n",
      "179   1640          60       RL          NaN    12388   Pave   NaN      IR1   \n",
      "182   1643          60       FV          NaN     7500   Pave   NaN      Reg   \n",
      "183   1644          60       FV          NaN     8470   Pave   NaN      Reg   \n",
      "184   1645          20       RL          NaN     9373   Pave   NaN      IR1   \n",
      "187   1648          20       RL          NaN     7830   Pave   NaN      IR1   \n",
      "188   1649          20       RL          NaN     8510   Pave   NaN      IR1   \n",
      "199   1660          20       RL          NaN    10710   Pave   NaN      Reg   \n",
      "229   1690          60       RL          NaN     8965   Pave   NaN      IR1   \n",
      "...    ...         ...      ...          ...      ...    ...   ...      ...   \n",
      "1224  2685          60       RL          NaN    12585   Pave   NaN      IR1   \n",
      "1240  2701          60       RL          NaN     9019   Pave   NaN      IR1   \n",
      "1243  2704          20       RL          NaN     9240   Pave   NaN      IR1   \n",
      "1244  2705          20       RL          NaN     9308   Pave   NaN      IR1   \n",
      "1246  2707          20       RL          NaN     8638   Pave   NaN      IR1   \n",
      "1247  2708          20       RL          NaN    13052   Pave   NaN      IR1   \n",
      "1248  2709          20       RL          NaN     8020   Pave   NaN      IR1   \n",
      "1249  2710          20       RL          NaN     8789   Pave   NaN      IR1   \n",
      "1254  2715         160       FV          NaN     2998   Pave   NaN      Reg   \n",
      "1255  2716         160       FV          NaN     4447   Pave   NaN      IR1   \n",
      "1264  2725          20       RL          NaN     9759   Pave   NaN      IR1   \n",
      "1267  2728          20       RL          NaN    10368   Pave   NaN      IR1   \n",
      "1277  2738          90       RL          NaN     8917   Pave   NaN      IR1   \n",
      "1278  2739          80       RL          NaN    12700   Pave   NaN      IR1   \n",
      "1281  2742          20       RL          NaN     9610   Pave   NaN      IR1   \n",
      "1304  2765          60       RL          NaN    18275   Pave   NaN      IR1   \n",
      "1347  2808          20       RL          NaN    11327   Pave   NaN      IR1   \n",
      "1350  2811          20       RL          NaN     9535   Pave   NaN      IR1   \n",
      "1351  2812          80       RL          NaN     7176   Pave   NaN      IR1   \n",
      "1352  2813          90       RL          NaN     9662   Pave   NaN      IR1   \n",
      "1354  2815          30       RL          NaN    17529   Pave   NaN      Reg   \n",
      "1355  2816          20       RL          NaN    20355   Pave   NaN      Reg   \n",
      "1358  2819         150       RL          NaN     1700   Pave   NaN      Reg   \n",
      "1379  2840          20       RL          NaN     8685   Pave   NaN      IR1   \n",
      "1385  2846          60       RL          NaN     9930   Pave   NaN      IR1   \n",
      "1387  2848          20       RL          NaN    11088   Pave   NaN      Reg   \n",
      "1390  2851          60       RL          NaN    21533   Pave   NaN      IR2   \n",
      "1440  2901          20       RL          NaN    50102   Pave   NaN      IR1   \n",
      "1441  2902          20       RL          NaN     8098   Pave   NaN      IR1   \n",
      "1448  2909          90       RL          NaN    11836   Pave   NaN      IR1   \n",
      "\n",
      "     LandContour Utilities      ...       ScreenPorch PoolArea PoolQC  Fence  \\\n",
      "6            Lvl    AllPub      ...                 0        0    NaN  GdPrv   \n",
      "40           Lvl    AllPub      ...                 0        0    NaN    NaN   \n",
      "41           Lvl    AllPub      ...                 0        0    NaN    NaN   \n",
      "45           Lvl    AllPub      ...                 0        0    NaN    NaN   \n",
      "47           Lvl    AllPub      ...                 0        0    NaN    NaN   \n",
      "52           Lvl    AllPub      ...                 0        0    NaN    NaN   \n",
      "59           Lvl    AllPub      ...                 0        0    NaN  GdPrv   \n",
      "75           Lvl    AllPub      ...                 0        0    NaN    NaN   \n",
      "82           Bnk    AllPub      ...                 0        0    NaN    NaN   \n",
      "98           Lvl    AllPub      ...                 0        0    NaN    NaN   \n",
      "103          Lvl    AllPub      ...                 0        0    NaN    NaN   \n",
      "105          Low    AllPub      ...                 0        0    NaN    NaN   \n",
      "107          Low    AllPub      ...                 0        0    NaN    NaN   \n",
      "113          Lvl    AllPub      ...                 0        0    NaN    NaN   \n",
      "119          Lvl    AllPub      ...                 0        0    NaN    NaN   \n",
      "124          Lvl    AllPub      ...                 0        0    NaN    NaN   \n",
      "132          Lvl    AllPub      ...               166        0    NaN    NaN   \n",
      "146          Lvl    AllPub      ...                 0        0    NaN    NaN   \n",
      "152          Lvl    AllPub      ...                 0        0    NaN    NaN   \n",
      "167          Lvl    AllPub      ...                 0        0    NaN    NaN   \n",
      "174          Lvl    AllPub      ...                 0        0    NaN    NaN   \n",
      "177          Lvl    AllPub      ...                 0        0    NaN    NaN   \n",
      "179          Lvl    AllPub      ...                 0        0    NaN    NaN   \n",
      "182          Lvl    AllPub      ...                 0        0    NaN    NaN   \n",
      "183          Lvl    AllPub      ...                 0        0    NaN    NaN   \n",
      "184          Lvl    AllPub      ...               490        0    NaN    NaN   \n",
      "187          Lvl    AllPub      ...                 0        0    NaN    NaN   \n",
      "188          Lvl    AllPub      ...                 0        0    NaN    NaN   \n",
      "199          Lvl    AllPub      ...                 0        0    NaN    NaN   \n",
      "229          Lvl    AllPub      ...                 0        0    NaN    NaN   \n",
      "...          ...       ...      ...               ...      ...    ...    ...   \n",
      "1224         Lvl    AllPub      ...                 0        0    NaN    NaN   \n",
      "1240         Lvl    AllPub      ...                 0        0    NaN    NaN   \n",
      "1243         Lvl    AllPub      ...                 0        0    NaN  MnPrv   \n",
      "1244         Lvl    AllPub      ...                 0        0    NaN  MnPrv   \n",
      "1246         Lvl    AllPub      ...                 0        0    NaN    NaN   \n",
      "1247         Lvl    AllPub      ...                 0        0    NaN  MnPrv   \n",
      "1248         Lvl    AllPub      ...                 0        0    NaN   GdWo   \n",
      "1249         Lvl    AllPub      ...                 0        0    NaN    NaN   \n",
      "1254         Lvl    AllPub      ...                 0        0    NaN    NaN   \n",
      "1255         Lvl    AllPub      ...                 0        0    NaN    NaN   \n",
      "1264         Lvl    AllPub      ...                 0        0    NaN    NaN   \n",
      "1267         Lvl    AllPub      ...                 0        0    NaN    NaN   \n",
      "1277         Lvl    AllPub      ...                 0        0    NaN    NaN   \n",
      "1278         Lvl    AllPub      ...                 0        0    NaN    NaN   \n",
      "1281         Lvl    AllPub      ...                 0        0    NaN    NaN   \n",
      "1304         HLS    AllPub      ...                 0        0    NaN    NaN   \n",
      "1347         Lvl    AllPub      ...                 0        0    NaN    NaN   \n",
      "1350         Lvl    AllPub      ...                 0        0    NaN  MnPrv   \n",
      "1351         Lvl    AllPub      ...               180        0    NaN  GdPrv   \n",
      "1352         Lvl    AllPub      ...                 0        0    NaN    NaN   \n",
      "1354         Lvl    AllPub      ...                 0        0    NaN    NaN   \n",
      "1355         Low    AllPub      ...                 0        0    NaN    NaN   \n",
      "1358         HLS    AllPub      ...               200        0    NaN    NaN   \n",
      "1379         Lvl    AllPub      ...                 0        0    NaN    NaN   \n",
      "1385         Lvl    AllPub      ...                 0        0    NaN    NaN   \n",
      "1387         Lvl    AllPub      ...                 0        0    NaN    NaN   \n",
      "1390         Lvl    AllPub      ...                 0        0    NaN    NaN   \n",
      "1440         Low    AllPub      ...               138        0    NaN    NaN   \n",
      "1441         Lvl    AllPub      ...                 0        0    NaN    NaN   \n",
      "1448         Lvl    AllPub      ...                 0        0    NaN    NaN   \n",
      "\n",
      "     MiscFeature MiscVal MoSold  YrSold  SaleType  SaleCondition  \n",
      "6           Shed     500      3    2010        WD         Normal  \n",
      "40           NaN       0      5    2010        WD         Normal  \n",
      "41           NaN       0      6    2010        WD         Normal  \n",
      "45           NaN       0      5    2010        WD         Normal  \n",
      "47           NaN       0      4    2010        WD         Normal  \n",
      "52           NaN       0      5    2010       COD         Family  \n",
      "59           NaN       0      5    2010        WD         Normal  \n",
      "75           NaN       0      3    2010        WD         Normal  \n",
      "82           NaN       0      5    2010        WD         Normal  \n",
      "98           NaN       0      3    2010        WD        Abnorml  \n",
      "103          NaN       0      5    2010        WD         Normal  \n",
      "105          NaN       0      4    2010        WD         Normal  \n",
      "107          NaN       0      5    2010        WD         Normal  \n",
      "113          NaN       0      6    2010       COD         Normal  \n",
      "119          NaN       0      4    2010        WD         Normal  \n",
      "124          NaN       0      4    2010        WD         Normal  \n",
      "132          NaN       0      3    2010        WD         Normal  \n",
      "146          NaN       0      3    2010     ConLD         Normal  \n",
      "152          NaN       0      6    2010        WD         Normal  \n",
      "167          NaN       0      8    2009        WD         Normal  \n",
      "174          NaN       0      7    2009        WD         Normal  \n",
      "177          NaN       0      5    2009        WD        Abnorml  \n",
      "179          NaN       0      8    2009        WD         Normal  \n",
      "182          NaN       0      3    2009        WD         Normal  \n",
      "183          NaN       0     10    2009        WD         Normal  \n",
      "184          NaN       0      6    2009        WD         Normal  \n",
      "187          NaN       0      3    2009       COD         Normal  \n",
      "188          NaN       0      7    2009        WD         Normal  \n",
      "199         Shed    1200      7    2009        WD         Normal  \n",
      "229          NaN       0      6    2009        WD         Normal  \n",
      "...          ...     ...    ...     ...       ...            ...  \n",
      "1224         NaN       0     10    2006        WD         Normal  \n",
      "1240         NaN       0      7    2006        WD         Normal  \n",
      "1243         NaN       0      3    2006        WD         Normal  \n",
      "1244         NaN       0      7    2006        WD         Normal  \n",
      "1246         NaN       0     10    2006        WD         Normal  \n",
      "1247         NaN       0      1    2006        WD         Normal  \n",
      "1248         NaN       0      4    2006        WD         Normal  \n",
      "1249         NaN       0      6    2006        WD         Normal  \n",
      "1254         NaN       0      6    2006        WD         Normal  \n",
      "1255         NaN       0      7    2006        WD         Normal  \n",
      "1264         NaN       0      3    2006        WD         Normal  \n",
      "1267         NaN       0      4    2006        WD         Normal  \n",
      "1277         NaN       0     10    2006        WD         Normal  \n",
      "1278         NaN       0     11    2006        WD         Normal  \n",
      "1281         NaN       0     12    2006        WD         Normal  \n",
      "1304         NaN       0      9    2006        WD         Normal  \n",
      "1347         NaN       0      6    2006        WD         Normal  \n",
      "1350         NaN       0      7    2006        WD         Normal  \n",
      "1351         NaN       0      7    2006        WD         Normal  \n",
      "1352         NaN       0      8    2006        WD         Normal  \n",
      "1354         NaN       0      4    2006        WD         Normal  \n",
      "1355         NaN       0      6    2006        WD         Normal  \n",
      "1358         NaN       0      4    2006        WD         Normal  \n",
      "1379         NaN       0      5    2006        WD         Normal  \n",
      "1385         NaN       0      7    2006        WD         Normal  \n",
      "1387         NaN       0      6    2006        WD         Normal  \n",
      "1390         NaN       0      8    2006        WD         Normal  \n",
      "1440         NaN       0      3    2006        WD         Alloca  \n",
      "1441         NaN       0     10    2006        WD         Normal  \n",
      "1448         NaN       0      3    2006        WD         Normal  \n",
      "\n",
      "[227 rows x 80 columns]\n"
     ]
    }
   ],
   "source": [
    "print(test_data[test_data['LotFrontage'].isnull() == True])"
   ]
  },
  {
   "cell_type": "code",
   "execution_count": 12,
   "metadata": {
    "scrolled": false
   },
   "outputs": [
    {
     "name": "stdout",
     "output_type": "stream",
     "text": [
      "        Id  MSSubClass MSZoning  LotFrontage  LotArea Street Alley LotShape  \\\n",
      "7        8          60       RL          NaN    10382   Pave   NaN      IR1   \n",
      "12      13          20       RL          NaN    12968   Pave   NaN      IR2   \n",
      "14      15          20       RL          NaN    10920   Pave   NaN      IR1   \n",
      "16      17          20       RL          NaN    11241   Pave   NaN      IR1   \n",
      "24      25          20       RL          NaN     8246   Pave   NaN      IR1   \n",
      "31      32          20       RL          NaN     8544   Pave   NaN      IR1   \n",
      "42      43          85       RL          NaN     9180   Pave   NaN      IR1   \n",
      "43      44          20       RL          NaN     9200   Pave   NaN      IR1   \n",
      "50      51          60       RL          NaN    13869   Pave   NaN      IR2   \n",
      "64      65          60       RL          NaN     9375   Pave   NaN      Reg   \n",
      "66      67          20       RL          NaN    19900   Pave   NaN      Reg   \n",
      "76      77          20       RL          NaN     8475   Pave   NaN      IR1   \n",
      "84      85          80       RL          NaN     8530   Pave   NaN      IR1   \n",
      "95      96          60       RL          NaN     9765   Pave   NaN      IR2   \n",
      "100    101          20       RL          NaN    10603   Pave   NaN      IR1   \n",
      "104    105          50       RM          NaN     7758   Pave   NaN      Reg   \n",
      "111    112          80       RL          NaN     7750   Pave   NaN      IR1   \n",
      "113    114          20       RL          NaN    21000   Pave   NaN      Reg   \n",
      "116    117          20       RL          NaN    11616   Pave   NaN      Reg   \n",
      "120    121          80       RL          NaN    21453   Pave   NaN      IR1   \n",
      "126    127         120       RL          NaN     4928   Pave   NaN      IR1   \n",
      "131    132          60       RL          NaN    12224   Pave   NaN      IR1   \n",
      "133    134          20       RL          NaN     6853   Pave   NaN      IR1   \n",
      "136    137          20       RL          NaN    10355   Pave   NaN      IR1   \n",
      "147    148          60       RL          NaN     9505   Pave   NaN      IR1   \n",
      "149    150          50       RM          NaN     6240   Pave   NaN      Reg   \n",
      "152    153          60       RL          NaN    14803   Pave   NaN      IR1   \n",
      "153    154          20       RL          NaN    13500   Pave   NaN      Reg   \n",
      "160    161          20       RL          NaN    11120   Pave   NaN      IR1   \n",
      "166    167          20       RL          NaN    10708   Pave   NaN      IR1   \n",
      "...    ...         ...      ...          ...      ...    ...   ...      ...   \n",
      "1300  1301          60       RL          NaN    10762   Pave   NaN      IR1   \n",
      "1301  1302          70       RL          NaN     7500   Pave   NaN      IR1   \n",
      "1309  1310          20       RL          NaN     7153   Pave   NaN      Reg   \n",
      "1312  1313          60       RL          NaN     9572   Pave   NaN      IR1   \n",
      "1318  1319          20       RL          NaN    14781   Pave   NaN      IR2   \n",
      "1321  1322          20       RL          NaN     6627   Pave   NaN      IR1   \n",
      "1342  1343          60       RL          NaN     9375   Pave   NaN      Reg   \n",
      "1346  1347          20       RL          NaN    20781   Pave   NaN      IR2   \n",
      "1348  1349          20       RL          NaN    16196   Pave   NaN      IR3   \n",
      "1354  1355          60       RL          NaN    10316   Pave   NaN      IR1   \n",
      "1356  1357          20       RL          NaN     9477   Pave   NaN      Reg   \n",
      "1357  1358          20       RL          NaN    12537   Pave   NaN      IR1   \n",
      "1358  1359         160       FV          NaN     2117   Pave   NaN      Reg   \n",
      "1362  1363          50       RL          NaN    12513   Pave   NaN      IR1   \n",
      "1365  1366          60       FV          NaN     7500   Pave   NaN      Reg   \n",
      "1368  1369         120       RM          NaN     4435   Pave   NaN      Reg   \n",
      "1373  1374          20       RL          NaN    11400   Pave   NaN      Reg   \n",
      "1381  1382          20       RL          NaN    12925   Pave   NaN      IR1   \n",
      "1383  1384          30       RL          NaN    25339   Pave   NaN      Reg   \n",
      "1396  1397          20       RL          NaN    57200   Pave   NaN      IR1   \n",
      "1407  1408          20       RL          NaN     8780   Pave   NaN      IR1   \n",
      "1417  1418          60       RL          NaN    16545   Pave   NaN      IR1   \n",
      "1419  1420          20       RL          NaN    16381   Pave   NaN      IR1   \n",
      "1423  1424          80       RL          NaN    19690   Pave   NaN      IR1   \n",
      "1424  1425          20       RL          NaN     9503   Pave   NaN      Reg   \n",
      "1429  1430          20       RL          NaN    12546   Pave   NaN      IR1   \n",
      "1431  1432         120       RL          NaN     4928   Pave   NaN      IR1   \n",
      "1441  1442         120       RM          NaN     4426   Pave   NaN      Reg   \n",
      "1443  1444          30       RL          NaN     8854   Pave   NaN      Reg   \n",
      "1446  1447          20       RL          NaN    26142   Pave   NaN      IR1   \n",
      "\n",
      "     LandContour Utilities      ...       ScreenPorch PoolArea PoolQC  Fence  \\\n",
      "7            Lvl    AllPub      ...                 0        0    NaN    NaN   \n",
      "12           Lvl    AllPub      ...               176        0    NaN    NaN   \n",
      "14           Lvl    AllPub      ...                 0        0    NaN   GdWo   \n",
      "16           Lvl    AllPub      ...                 0        0    NaN    NaN   \n",
      "24           Lvl    AllPub      ...                 0        0    NaN  MnPrv   \n",
      "31           Lvl    AllPub      ...                 0        0    NaN  MnPrv   \n",
      "42           Lvl    AllPub      ...                 0        0    NaN  MnPrv   \n",
      "43           Lvl    AllPub      ...                 0        0    NaN  MnPrv   \n",
      "50           Lvl    AllPub      ...                 0        0    NaN    NaN   \n",
      "64           Lvl    AllPub      ...                 0        0    NaN  GdPrv   \n",
      "66           Lvl    AllPub      ...                 0        0    NaN    NaN   \n",
      "76           Lvl    AllPub      ...                 0        0    NaN    NaN   \n",
      "84           Lvl    AllPub      ...                 0        0    NaN    NaN   \n",
      "95           Lvl    AllPub      ...                 0        0    NaN    NaN   \n",
      "100          Lvl    AllPub      ...                 0        0    NaN    NaN   \n",
      "104          Lvl    AllPub      ...               184        0    NaN    NaN   \n",
      "111          Lvl    AllPub      ...                 0        0    NaN    NaN   \n",
      "113          Bnk    AllPub      ...                 0        0    NaN  MnPrv   \n",
      "116          Lvl    AllPub      ...                 0        0    NaN    NaN   \n",
      "120          Low    AllPub      ...                 0        0    NaN    NaN   \n",
      "126          Lvl    AllPub      ...                 0        0    NaN    NaN   \n",
      "131          Lvl    AllPub      ...                 0        0    NaN    NaN   \n",
      "133          Lvl    AllPub      ...                 0        0    NaN    NaN   \n",
      "136          Lvl    AllPub      ...                 0        0    NaN    NaN   \n",
      "147          Lvl    AllPub      ...                 0        0    NaN    NaN   \n",
      "149          Lvl    AllPub      ...                 0        0    NaN    NaN   \n",
      "152          Lvl    AllPub      ...                 0        0    NaN   GdWo   \n",
      "153          Lvl    AllPub      ...                 0        0    NaN    NaN   \n",
      "160          Lvl    AllPub      ...                 0        0    NaN    NaN   \n",
      "166          Lvl    AllPub      ...               142        0    NaN   GdWo   \n",
      "...          ...       ...      ...               ...      ...    ...    ...   \n",
      "1300         Lvl    AllPub      ...                 0        0    NaN    NaN   \n",
      "1301         Bnk    AllPub      ...               224        0    NaN    NaN   \n",
      "1309         Lvl    AllPub      ...                 0        0    NaN   GdWo   \n",
      "1312         Lvl    AllPub      ...                 0        0    NaN    NaN   \n",
      "1318         Lvl    AllPub      ...                 0        0    NaN    NaN   \n",
      "1321         Lvl    AllPub      ...                 0        0    NaN    NaN   \n",
      "1342         Lvl    AllPub      ...                 0        0    NaN    NaN   \n",
      "1346         Lvl    AllPub      ...                 0        0    NaN    NaN   \n",
      "1348         Low    AllPub      ...                 0        0    NaN    NaN   \n",
      "1354         Lvl    AllPub      ...                 0        0    NaN    NaN   \n",
      "1356         Lvl    AllPub      ...                 0        0    NaN   GdWo   \n",
      "1357         Lvl    AllPub      ...                 0        0    NaN    NaN   \n",
      "1358         Lvl    AllPub      ...                 0        0    NaN    NaN   \n",
      "1362         Lvl    AllPub      ...                 0        0    NaN    NaN   \n",
      "1365         Lvl    AllPub      ...                 0        0    NaN    NaN   \n",
      "1368         Lvl    AllPub      ...                 0        0    NaN    NaN   \n",
      "1373         Lvl    AllPub      ...                 0        0    NaN    NaN   \n",
      "1381         Lvl    AllPub      ...                 0        0    NaN    NaN   \n",
      "1383         Lvl    AllPub      ...                 0        0    NaN    NaN   \n",
      "1396         Bnk    AllPub      ...                 0        0    NaN    NaN   \n",
      "1407         Lvl    AllPub      ...                 0        0    NaN  MnPrv   \n",
      "1417         Lvl    AllPub      ...                 0        0    NaN    NaN   \n",
      "1419         Lvl    AllPub      ...                 0        0    NaN    NaN   \n",
      "1423         Lvl    AllPub      ...                 0      738     Gd  GdPrv   \n",
      "1424         Lvl    AllPub      ...                 0        0    NaN   GdWo   \n",
      "1429         Lvl    AllPub      ...                 0        0    NaN    NaN   \n",
      "1431         Lvl    AllPub      ...                 0        0    NaN    NaN   \n",
      "1441         Lvl    AllPub      ...                 0        0    NaN    NaN   \n",
      "1443         Lvl    AllPub      ...                40        0    NaN    NaN   \n",
      "1446         Lvl    AllPub      ...                 0        0    NaN    NaN   \n",
      "\n",
      "     MiscFeature MiscVal MoSold  YrSold  SaleType  SaleCondition  \n",
      "7           Shed     350     11    2009        WD         Normal  \n",
      "12           NaN       0      9    2008        WD         Normal  \n",
      "14           NaN       0      5    2008        WD         Normal  \n",
      "16          Shed     700      3    2010        WD         Normal  \n",
      "24           NaN       0      5    2010        WD         Normal  \n",
      "31           NaN       0      6    2008        WD         Normal  \n",
      "42           NaN       0     12    2007        WD         Normal  \n",
      "43           NaN       0      7    2008        WD         Normal  \n",
      "50           NaN       0      7    2007        WD         Normal  \n",
      "64           NaN       0      2    2009        WD         Normal  \n",
      "66           NaN       0      7    2010        WD         Normal  \n",
      "76           NaN       0      4    2008        WD         Normal  \n",
      "84          Shed     700      5    2009        WD         Normal  \n",
      "95          Shed     480      4    2009        WD         Normal  \n",
      "100          NaN       0      2    2010        WD         Normal  \n",
      "104          NaN       0      6    2007        WD         Normal  \n",
      "111          NaN       0      4    2010        WD         Normal  \n",
      "113          NaN       0     10    2007       COD        Abnorml  \n",
      "116          NaN       0      9    2009        WD         Normal  \n",
      "120          NaN       0     10    2006        WD         Normal  \n",
      "126          NaN       0      2    2007        WD         Normal  \n",
      "131          NaN       0      7    2009        WD         Normal  \n",
      "133          NaN       0      6    2009        WD         Normal  \n",
      "136          NaN       0      7    2007        WD         Normal  \n",
      "147          NaN       0      5    2010        WD         Normal  \n",
      "149          NaN       0      4    2006        WD         Normal  \n",
      "152          NaN       0      6    2006        WD         Normal  \n",
      "153          NaN       0      3    2008        WD         Normal  \n",
      "160          NaN       0      6    2008        WD         Normal  \n",
      "166          NaN       0     11    2009       COD         Normal  \n",
      "...          ...     ...    ...     ...       ...            ...  \n",
      "1300         NaN       0      5    2009        WD         Normal  \n",
      "1301         NaN       0     11    2009        WD         Normal  \n",
      "1309         NaN       0      6    2008        WD         Normal  \n",
      "1312         NaN       0      6    2007        WD         Normal  \n",
      "1318         NaN       0      8    2006        WD         Normal  \n",
      "1321         NaN       0      7    2008        WD         Normal  \n",
      "1342         NaN       0      8    2007        WD         Normal  \n",
      "1346         NaN       0      6    2006        WD         Normal  \n",
      "1348         NaN       0      8    2007        WD         Normal  \n",
      "1354         NaN       0      6    2008        WD         Normal  \n",
      "1356         NaN       0     10    2008        WD         Normal  \n",
      "1357         NaN       0      4    2010        WD         Normal  \n",
      "1358         NaN       0      6    2010        WD         Normal  \n",
      "1362         NaN       0      6    2009        WD         Normal  \n",
      "1365         NaN       0      1    2010        WD         Normal  \n",
      "1368         NaN       0      6    2009        WD         Normal  \n",
      "1373         NaN       0      3    2007        WD         Normal  \n",
      "1381         NaN       0      5    2008        WD         Normal  \n",
      "1383         NaN       0      8    2007        WD         Normal  \n",
      "1396         NaN       0      6    2010        WD         Normal  \n",
      "1407         NaN       0      3    2009        WD         Normal  \n",
      "1417         NaN       0      5    2009        WD         Normal  \n",
      "1419         NaN       0     12    2006        WD         Normal  \n",
      "1423         NaN       0      8    2006        WD         Alloca  \n",
      "1424         NaN       0      6    2007        WD         Normal  \n",
      "1429         NaN       0      4    2007        WD         Normal  \n",
      "1431         NaN       0     10    2009        WD         Normal  \n",
      "1441         NaN       0      5    2008        WD         Normal  \n",
      "1443         NaN       0      5    2009        WD         Normal  \n",
      "1446         NaN       0      4    2010        WD         Normal  \n",
      "\n",
      "[259 rows x 80 columns]\n"
     ]
    }
   ],
   "source": [
    "print(train_data[train_data['LotFrontage'].isnull() == True])"
   ]
  },
  {
   "cell_type": "code",
   "execution_count": 169,
   "metadata": {},
   "outputs": [
    {
     "name": "stdout",
     "output_type": "stream",
     "text": [
      "0       0.114350\n",
      "1       0.153333\n",
      "2       0.122147\n",
      "3       0.101356\n",
      "4       0.163729\n",
      "5       0.166327\n",
      "6       0.140339\n",
      "7       0.210228\n",
      "8       0.077966\n",
      "9       0.075367\n",
      "10      0.127344\n",
      "11      0.166327\n",
      "12      0.241375\n",
      "13      0.181921\n",
      "14      0.217002\n",
      "15      0.077966\n",
      "16      0.220965\n",
      "17      0.132542\n",
      "18      0.116949\n",
      "19      0.127344\n",
      "20      0.207909\n",
      "21      0.093559\n",
      "22      0.140339\n",
      "23      0.059774\n",
      "24      0.181420\n",
      "25      0.231299\n",
      "26      0.101356\n",
      "27      0.200113\n",
      "28      0.067571\n",
      "29      0.101356\n",
      "          ...   \n",
      "1430    0.101356\n",
      "1431    0.127863\n",
      "1432    0.101356\n",
      "1433    0.187118\n",
      "1434    0.153333\n",
      "1435    0.153333\n",
      "1436    0.101356\n",
      "1437    0.194915\n",
      "1438    0.179322\n",
      "1439    0.153333\n",
      "1440    0.150734\n",
      "1441    0.118322\n",
      "1442    0.166327\n",
      "1443    0.189966\n",
      "1444    0.109152\n",
      "1445    0.127344\n",
      "1446    0.365621\n",
      "1447    0.153333\n",
      "1448    0.127344\n",
      "1449    0.000000\n",
      "1450    0.101356\n",
      "1451    0.148135\n",
      "1452    0.036384\n",
      "1453    0.179322\n",
      "1454    0.106554\n",
      "1455    0.106554\n",
      "1456    0.166327\n",
      "1457    0.116949\n",
      "1458    0.122147\n",
      "1459    0.140339\n",
      "Name: LotFrontage, Length: 1460, dtype: float64\n"
     ]
    }
   ],
   "source": [
    "Xlot = train_data['LotArea']\n",
    "Ylot= train_data['LotFrontage']"
   ]
  },
  {
   "cell_type": "code",
   "execution_count": 168,
   "metadata": {},
   "outputs": [
    {
     "ename": "ValueError",
     "evalue": "Expected 2D array, got 1D array instead:\narray=[0.0334198  0.03879502 0.04650728 ... 0.03618687 0.03934189 0.04037019].\nReshape your data either using array.reshape(-1, 1) if your data has a single feature or array.reshape(1, -1) if it contains a single sample.",
     "output_type": "error",
     "traceback": [
      "\u001b[1;31m---------------------------------------------------------------------------\u001b[0m",
      "\u001b[1;31mValueError\u001b[0m                                Traceback (most recent call last)",
      "\u001b[1;32m<ipython-input-168-e7a2efe0814e>\u001b[0m in \u001b[0;36m<module>\u001b[1;34m\u001b[0m\n\u001b[0;32m      2\u001b[0m \u001b[1;32mfrom\u001b[0m \u001b[0msklearn\u001b[0m \u001b[1;32mimport\u001b[0m \u001b[0mlinear_model\u001b[0m\u001b[1;33m\u001b[0m\u001b[1;33m\u001b[0m\u001b[0m\n\u001b[0;32m      3\u001b[0m \u001b[0mlm\u001b[0m \u001b[1;33m=\u001b[0m \u001b[0mlinear_model\u001b[0m\u001b[1;33m.\u001b[0m\u001b[0mLinearRegression\u001b[0m\u001b[1;33m(\u001b[0m\u001b[1;33m)\u001b[0m\u001b[1;33m\u001b[0m\u001b[1;33m\u001b[0m\u001b[0m\n\u001b[1;32m----> 4\u001b[1;33m \u001b[0mlm\u001b[0m\u001b[1;33m.\u001b[0m\u001b[0mfit\u001b[0m\u001b[1;33m(\u001b[0m\u001b[0mXlot\u001b[0m\u001b[1;33m,\u001b[0m \u001b[0mYlot\u001b[0m\u001b[1;33m)\u001b[0m\u001b[1;33m\u001b[0m\u001b[1;33m\u001b[0m\u001b[0m\n\u001b[0m\u001b[0;32m      5\u001b[0m \u001b[0mres\u001b[0m \u001b[1;33m=\u001b[0m \u001b[0mlm\u001b[0m\u001b[1;33m.\u001b[0m\u001b[0mpredict\u001b[0m\u001b[1;33m(\u001b[0m\u001b[0mXlot\u001b[0m\u001b[1;33m)\u001b[0m\u001b[1;33m\u001b[0m\u001b[1;33m\u001b[0m\u001b[0m\n",
      "\u001b[1;32m~\\Anaconda3\\lib\\site-packages\\sklearn\\linear_model\\base.py\u001b[0m in \u001b[0;36mfit\u001b[1;34m(self, X, y, sample_weight)\u001b[0m\n\u001b[0;32m    456\u001b[0m \u001b[1;33m\u001b[0m\u001b[0m\n\u001b[0;32m    457\u001b[0m     \u001b[1;32mdef\u001b[0m \u001b[0mfit\u001b[0m\u001b[1;33m(\u001b[0m\u001b[0mself\u001b[0m\u001b[1;33m,\u001b[0m \u001b[0mX\u001b[0m\u001b[1;33m,\u001b[0m \u001b[0my\u001b[0m\u001b[1;33m,\u001b[0m \u001b[0msample_weight\u001b[0m\u001b[1;33m=\u001b[0m\u001b[1;32mNone\u001b[0m\u001b[1;33m)\u001b[0m\u001b[1;33m:\u001b[0m\u001b[1;33m\u001b[0m\u001b[1;33m\u001b[0m\u001b[0m\n\u001b[1;32m--> 458\u001b[1;33m         \"\"\"\n\u001b[0m\u001b[0;32m    459\u001b[0m         \u001b[0mFit\u001b[0m \u001b[0mlinear\u001b[0m \u001b[0mmodel\u001b[0m\u001b[1;33m.\u001b[0m\u001b[1;33m\u001b[0m\u001b[1;33m\u001b[0m\u001b[0m\n\u001b[0;32m    460\u001b[0m \u001b[1;33m\u001b[0m\u001b[0m\n",
      "\u001b[1;32m~\\Anaconda3\\lib\\site-packages\\sklearn\\utils\\validation.py\u001b[0m in \u001b[0;36mcheck_X_y\u001b[1;34m(X, y, accept_sparse, accept_large_sparse, dtype, order, copy, force_all_finite, ensure_2d, allow_nd, multi_output, ensure_min_samples, ensure_min_features, y_numeric, warn_on_dtype, estimator)\u001b[0m\n\u001b[0;32m    754\u001b[0m     \u001b[0mNotFittedError\u001b[0m\u001b[1;33m\u001b[0m\u001b[1;33m\u001b[0m\u001b[0m\n\u001b[0;32m    755\u001b[0m         \u001b[0mIf\u001b[0m \u001b[0mthe\u001b[0m \u001b[0mattributes\u001b[0m \u001b[0mare\u001b[0m \u001b[1;32mnot\u001b[0m \u001b[0mfound\u001b[0m\u001b[1;33m.\u001b[0m\u001b[1;33m\u001b[0m\u001b[1;33m\u001b[0m\u001b[0m\n\u001b[1;32m--> 756\u001b[1;33m     \"\"\"\n\u001b[0m\u001b[0;32m    757\u001b[0m     \u001b[1;32mif\u001b[0m \u001b[0mmsg\u001b[0m \u001b[1;32mis\u001b[0m \u001b[1;32mNone\u001b[0m\u001b[1;33m:\u001b[0m\u001b[1;33m\u001b[0m\u001b[1;33m\u001b[0m\u001b[0m\n\u001b[0;32m    758\u001b[0m         msg = (\"This %(name)s instance is not fitted yet. Call 'fit' with \"\n",
      "\u001b[1;32m~\\Anaconda3\\lib\\site-packages\\sklearn\\utils\\validation.py\u001b[0m in \u001b[0;36mcheck_array\u001b[1;34m(array, accept_sparse, accept_large_sparse, dtype, order, copy, force_all_finite, ensure_2d, allow_nd, ensure_min_samples, ensure_min_features, warn_on_dtype, estimator)\u001b[0m\n\u001b[0;32m    550\u001b[0m \u001b[1;33m\u001b[0m\u001b[0m\n\u001b[0;32m    551\u001b[0m     \u001b[0my_numeric\u001b[0m \u001b[1;33m:\u001b[0m \u001b[0mboolean\u001b[0m \u001b[1;33m(\u001b[0m\u001b[0mdefault\u001b[0m\u001b[1;33m=\u001b[0m\u001b[1;32mFalse\u001b[0m\u001b[1;33m)\u001b[0m\u001b[1;33m\u001b[0m\u001b[1;33m\u001b[0m\u001b[0m\n\u001b[1;32m--> 552\u001b[1;33m         \u001b[0mWhether\u001b[0m \u001b[0mto\u001b[0m \u001b[0mensure\u001b[0m \u001b[0mthat\u001b[0m \u001b[0my\u001b[0m \u001b[0mhas\u001b[0m \u001b[0ma\u001b[0m \u001b[0mnumeric\u001b[0m \u001b[0mtype\u001b[0m\u001b[1;33m.\u001b[0m \u001b[0mIf\u001b[0m \u001b[0mdtype\u001b[0m \u001b[0mof\u001b[0m \u001b[0my\u001b[0m \u001b[1;32mis\u001b[0m \u001b[0mobject\u001b[0m\u001b[1;33m,\u001b[0m\u001b[1;33m\u001b[0m\u001b[1;33m\u001b[0m\u001b[0m\n\u001b[0m\u001b[0;32m    553\u001b[0m         \u001b[0mit\u001b[0m \u001b[1;32mis\u001b[0m \u001b[0mconverted\u001b[0m \u001b[0mto\u001b[0m \u001b[0mfloat64\u001b[0m\u001b[1;33m.\u001b[0m \u001b[0mShould\u001b[0m \u001b[0monly\u001b[0m \u001b[0mbe\u001b[0m \u001b[0mused\u001b[0m \u001b[1;32mfor\u001b[0m \u001b[0mregression\u001b[0m\u001b[1;33m\u001b[0m\u001b[1;33m\u001b[0m\u001b[0m\n\u001b[0;32m    554\u001b[0m         \u001b[0malgorithms\u001b[0m\u001b[1;33m.\u001b[0m\u001b[1;33m\u001b[0m\u001b[1;33m\u001b[0m\u001b[0m\n",
      "\u001b[1;31mValueError\u001b[0m: Expected 2D array, got 1D array instead:\narray=[0.0334198  0.03879502 0.04650728 ... 0.03618687 0.03934189 0.04037019].\nReshape your data either using array.reshape(-1, 1) if your data has a single feature or array.reshape(1, -1) if it contains a single sample."
     ]
    }
   ],
   "source": [
    "# train linear regression model\n",
    "from sklearn import linear_model\n",
    "lm = linear_model.LinearRegression()\n",
    "lm.fit(Xlot, Ylot)\n",
    "res = lm.predict(Xlot)"
   ]
  },
  {
   "cell_type": "code",
   "execution_count": 13,
   "metadata": {},
   "outputs": [
    {
     "name": "stdout",
     "output_type": "stream",
     "text": [
      "0.7030019347771298\n",
      "0.6020022167939364\n"
     ]
    }
   ],
   "source": [
    "import numpy as np\n",
    "test_data['SqrtLotArea'] = np.sqrt(test_data['LotArea'])\n",
    "train_data['SqrtLotArea'] = np.sqrt(train_data['LotArea'])\n",
    "print(test_data['LotFrontage'].corr(test_data['SqrtLotArea']))\n",
    "print(train_data['LotFrontage'].corr(train_data['SqrtLotArea']))"
   ]
  },
  {
   "cell_type": "code",
   "execution_count": 14,
   "metadata": {},
   "outputs": [
    {
     "name": "stderr",
     "output_type": "stream",
     "text": [
      "C:\\Users\\hp\\Anaconda3\\lib\\site-packages\\ipykernel_launcher.py:1: SettingWithCopyWarning: \n",
      "A value is trying to be set on a copy of a slice from a DataFrame\n",
      "\n",
      "See the caveats in the documentation: http://pandas.pydata.org/pandas-docs/stable/indexing.html#indexing-view-versus-copy\n",
      "  \"\"\"Entry point for launching an IPython kernel.\n",
      "C:\\Users\\hp\\Anaconda3\\lib\\site-packages\\ipykernel_launcher.py:2: SettingWithCopyWarning: \n",
      "A value is trying to be set on a copy of a slice from a DataFrame\n",
      "\n",
      "See the caveats in the documentation: http://pandas.pydata.org/pandas-docs/stable/indexing.html#indexing-view-versus-copy\n",
      "  \n"
     ]
    }
   ],
   "source": [
    "test_data.LotFrontage[test_data['LotFrontage'].isnull()] = test_data.SqrtLotArea[test_data['LotFrontage'].isnull()]\n",
    "train_data.LotFrontage[train_data['LotFrontage'].isnull()] = train_data.SqrtLotArea[train_data['LotFrontage'].isnull()]\n",
    "del test_data['SqrtLotArea']\n",
    "del train_data['SqrtLotArea']"
   ]
  },
  {
   "cell_type": "code",
   "execution_count": 15,
   "metadata": {},
   "outputs": [
    {
     "name": "stdout",
     "output_type": "stream",
     "text": [
      "Empty DataFrame\n",
      "Columns: [Id, MSSubClass, MSZoning, LotFrontage, LotArea, Street, Alley, LotShape, LandContour, Utilities, LotConfig, LandSlope, Neighborhood, Condition1, Condition2, BldgType, HouseStyle, OverallQual, OverallCond, YearBuilt, YearRemodAdd, RoofStyle, RoofMatl, Exterior1st, Exterior2nd, MasVnrType, MasVnrArea, ExterQual, ExterCond, Foundation, BsmtQual, BsmtCond, BsmtExposure, BsmtFinType1, BsmtFinSF1, BsmtFinType2, BsmtFinSF2, BsmtUnfSF, TotalBsmtSF, Heating, HeatingQC, CentralAir, Electrical, 1stFlrSF, 2ndFlrSF, LowQualFinSF, GrLivArea, BsmtFullBath, BsmtHalfBath, FullBath, HalfBath, BedroomAbvGr, KitchenAbvGr, KitchenQual, TotRmsAbvGrd, Functional, Fireplaces, FireplaceQu, GarageType, GarageYrBlt, GarageFinish, GarageCars, GarageArea, GarageQual, GarageCond, PavedDrive, WoodDeckSF, OpenPorchSF, EnclosedPorch, 3SsnPorch, ScreenPorch, PoolArea, PoolQC, Fence, MiscFeature, MiscVal, MoSold, YrSold, SaleType, SaleCondition]\n",
      "Index: []\n",
      "\n",
      "[0 rows x 80 columns]\n"
     ]
    }
   ],
   "source": [
    "print(test_data[test_data['LotFrontage'].isnull() == True])"
   ]
  },
  {
   "cell_type": "code",
   "execution_count": 16,
   "metadata": {},
   "outputs": [
    {
     "name": "stdout",
     "output_type": "stream",
     "text": [
      "Empty DataFrame\n",
      "Columns: [Id, MSSubClass, MSZoning, LotFrontage, LotArea, Street, Alley, LotShape, LandContour, Utilities, LotConfig, LandSlope, Neighborhood, Condition1, Condition2, BldgType, HouseStyle, OverallQual, OverallCond, YearBuilt, YearRemodAdd, RoofStyle, RoofMatl, Exterior1st, Exterior2nd, MasVnrType, MasVnrArea, ExterQual, ExterCond, Foundation, BsmtQual, BsmtCond, BsmtExposure, BsmtFinType1, BsmtFinSF1, BsmtFinType2, BsmtFinSF2, BsmtUnfSF, TotalBsmtSF, Heating, HeatingQC, CentralAir, Electrical, 1stFlrSF, 2ndFlrSF, LowQualFinSF, GrLivArea, BsmtFullBath, BsmtHalfBath, FullBath, HalfBath, BedroomAbvGr, KitchenAbvGr, KitchenQual, TotRmsAbvGrd, Functional, Fireplaces, FireplaceQu, GarageType, GarageYrBlt, GarageFinish, GarageCars, GarageArea, GarageQual, GarageCond, PavedDrive, WoodDeckSF, OpenPorchSF, EnclosedPorch, 3SsnPorch, ScreenPorch, PoolArea, PoolQC, Fence, MiscFeature, MiscVal, MoSold, YrSold, SaleType, SaleCondition]\n",
      "Index: []\n",
      "\n",
      "[0 rows x 80 columns]\n"
     ]
    }
   ],
   "source": [
    "print(train_data[train_data['LotFrontage'].isnull() == True])"
   ]
  },
  {
   "cell_type": "code",
   "execution_count": 17,
   "metadata": {
    "scrolled": true
   },
   "outputs": [
    {
     "name": "stdout",
     "output_type": "stream",
     "text": [
      "None       878\n",
      "BrkFace    434\n",
      "Stone      121\n",
      "BrkCmn      10\n",
      "Name: MasVnrType, dtype: int64 1459\n",
      "None       864\n",
      "BrkFace    445\n",
      "Stone      128\n",
      "BrkCmn      15\n",
      "Name: MasVnrType, dtype: int64 1460\n"
     ]
    }
   ],
   "source": [
    "print(exploreData(test_data, 'MasVnrType'), len(test_data))\n",
    "print(exploreData(train_data, 'MasVnrType'), len(train_data))"
   ]
  },
  {
   "cell_type": "code",
   "execution_count": 18,
   "metadata": {},
   "outputs": [],
   "source": [
    "imputation(test_data, 'MasVnrType', 'None')\n",
    "imputation(train_data, 'MasVnrType', 'None')"
   ]
  },
  {
   "cell_type": "code",
   "execution_count": 19,
   "metadata": {},
   "outputs": [
    {
     "name": "stdout",
     "output_type": "stream",
     "text": [
      "AllPub    1457\n",
      "Name: Utilities, dtype: int64 1459\n"
     ]
    }
   ],
   "source": [
    "print(exploreData(test_data, 'Utilities'), len(test_data))"
   ]
  },
  {
   "cell_type": "code",
   "execution_count": 20,
   "metadata": {},
   "outputs": [],
   "source": [
    "imputation(test_data, 'Utilities', 'AllPub')"
   ]
  },
  {
   "cell_type": "code",
   "execution_count": 21,
   "metadata": {},
   "outputs": [
    {
     "data": {
      "text/plain": [
       "691    NaN\n",
       "Name: Exterior1st, dtype: object"
      ]
     },
     "execution_count": 21,
     "metadata": {},
     "output_type": "execute_result"
    }
   ],
   "source": [
    "tmp = test_data[test_data['Exterior1st'].isnull() == True]\n",
    "tmp['Exterior1st']"
   ]
  },
  {
   "cell_type": "code",
   "execution_count": 22,
   "metadata": {},
   "outputs": [
    {
     "data": {
      "text/plain": [
       "691    NaN\n",
       "Name: Exterior2nd, dtype: object"
      ]
     },
     "execution_count": 22,
     "metadata": {},
     "output_type": "execute_result"
    }
   ],
   "source": [
    "tmp = test_data[test_data['Exterior2nd'].isnull() == True]\n",
    "tmp['Exterior2nd']"
   ]
  },
  {
   "cell_type": "code",
   "execution_count": 23,
   "metadata": {},
   "outputs": [
    {
     "name": "stdout",
     "output_type": "stream",
     "text": [
      "VinylSd    510\n",
      "MetalSd    230\n",
      "HdBoard    220\n",
      "Wd Sdng    205\n",
      "Plywood    113\n",
      "CemntBd     65\n",
      "BrkFace     37\n",
      "WdShing     30\n",
      "AsbShng     24\n",
      "Stucco      18\n",
      "BrkComm      4\n",
      "AsphShn      1\n",
      "CBlock       1\n",
      "Name: Exterior1st, dtype: int64 1459\n",
      "VinylSd    510\n",
      "MetalSd    233\n",
      "HdBoard    199\n",
      "Wd Sdng    194\n",
      "Plywood    128\n",
      "CmentBd     66\n",
      "Wd Shng     43\n",
      "BrkFace     22\n",
      "Stucco      21\n",
      "AsbShng     18\n",
      "Brk Cmn     15\n",
      "ImStucc      5\n",
      "CBlock       2\n",
      "AsphShn      1\n",
      "Stone        1\n",
      "Name: Exterior2nd, dtype: int64 1459\n"
     ]
    }
   ],
   "source": [
    "print(exploreData(test_data, 'Exterior1st'), len(test_data))\n",
    "print(exploreData(test_data, 'Exterior2nd'), len(test_data))"
   ]
  },
  {
   "cell_type": "code",
   "execution_count": 24,
   "metadata": {},
   "outputs": [
    {
     "name": "stdout",
     "output_type": "stream",
     "text": [
      "Exterior2nd  AsbShng  AsphShn  Brk Cmn  BrkFace  CBlock  CmentBd  HdBoard  \\\n",
      "Exterior1st                                                                 \n",
      "AsbShng           18        0        0        0       0        1        0   \n",
      "AsphShn            0        1        0        0       0        0        0   \n",
      "BrkComm            0        0        2        0       0        0        0   \n",
      "BrkFace            0        0        0       20       0        0        0   \n",
      "CBlock             0        0        0        0       0        0        0   \n",
      "CemntBd            0        0        0        0       0       65        0   \n",
      "HdBoard            0        0        0        1       0        0      190   \n",
      "MetalSd            0        0        0        0       1        0        0   \n",
      "Plywood            0        0       13        0       1        0        4   \n",
      "Stucco             0        0        0        1       0        0        0   \n",
      "VinylSd            0        0        0        0       0        0        0   \n",
      "Wd Sdng            0        0        0        0       0        0        5   \n",
      "WdShing            0        0        0        0       0        0        0   \n",
      "\n",
      "Exterior2nd  ImStucc  MetalSd  Plywood  Stone  Stucco  VinylSd  Wd Sdng  \\\n",
      "Exterior1st                                                               \n",
      "AsbShng            0        0        3      0       0        1        1   \n",
      "AsphShn            0        0        0      0       0        0        0   \n",
      "BrkComm            0        0        0      0       1        0        1   \n",
      "BrkFace            0        3        2      1       2        1        8   \n",
      "CBlock             0        0        0      0       0        1        0   \n",
      "CemntBd            0        0        0      0       0        0        0   \n",
      "HdBoard            4        0       18      0       1        0        2   \n",
      "MetalSd            0      225        0      0       2        2        0   \n",
      "Plywood            1        0       90      0       0        1        2   \n",
      "Stucco             0        0        1      0      13        0        2   \n",
      "VinylSd            0        2        0      0       0      503        1   \n",
      "Wd Sdng            0        3        9      0       2        1      176   \n",
      "WdShing            0        0        5      0       0        0        1   \n",
      "\n",
      "Exterior2nd  Wd Shng  \n",
      "Exterior1st           \n",
      "AsbShng            0  \n",
      "AsphShn            0  \n",
      "BrkComm            0  \n",
      "BrkFace            0  \n",
      "CBlock             0  \n",
      "CemntBd            0  \n",
      "HdBoard            4  \n",
      "MetalSd            0  \n",
      "Plywood            1  \n",
      "Stucco             1  \n",
      "VinylSd            4  \n",
      "Wd Sdng            9  \n",
      "WdShing           24  \n"
     ]
    }
   ],
   "source": [
    "print(pd.crosstab(test_data.Exterior1st, test_data.Exterior2nd))"
   ]
  },
  {
   "cell_type": "code",
   "execution_count": 25,
   "metadata": {},
   "outputs": [],
   "source": [
    "imputation(test_data, 'Exterior1st', 'VinylSd')\n",
    "imputation(test_data, 'Exterior2nd', 'VinylSd')"
   ]
  },
  {
   "cell_type": "code",
   "execution_count": 26,
   "metadata": {
    "scrolled": true
   },
   "outputs": [
    {
     "name": "stdout",
     "output_type": "stream",
     "text": [
      "0.0      877\n",
      "176.0     10\n",
      "144.0      9\n",
      "120.0      8\n",
      "216.0      8\n",
      "200.0      7\n",
      "128.0      6\n",
      "504.0      6\n",
      "302.0      6\n",
      "198.0      6\n",
      "196.0      5\n",
      "140.0      5\n",
      "203.0      5\n",
      "260.0      5\n",
      "210.0      5\n",
      "60.0       5\n",
      "256.0      5\n",
      "164.0      5\n",
      "23.0       4\n",
      "16.0       4\n",
      "112.0      4\n",
      "178.0      4\n",
      "40.0       4\n",
      "194.0      4\n",
      "174.0      4\n",
      "420.0      4\n",
      "143.0      4\n",
      "306.0      4\n",
      "50.0       4\n",
      "186.0      4\n",
      "        ... \n",
      "146.0      1\n",
      "257.0      1\n",
      "138.0      1\n",
      "222.0      1\n",
      "276.0      1\n",
      "125.0      1\n",
      "95.0       1\n",
      "292.0      1\n",
      "680.0      1\n",
      "119.0      1\n",
      "153.0      1\n",
      "572.0      1\n",
      "444.0      1\n",
      "394.0      1\n",
      "500.0      1\n",
      "308.0      1\n",
      "284.0      1\n",
      "101.0      1\n",
      "85.0       1\n",
      "366.0      1\n",
      "286.0      1\n",
      "886.0      1\n",
      "268.0      1\n",
      "418.0      1\n",
      "226.0      1\n",
      "634.0      1\n",
      "177.0      1\n",
      "615.0      1\n",
      "549.0      1\n",
      "442.0      1\n",
      "Name: MasVnrArea, Length: 303, dtype: int64 1459\n",
      "0.0       861\n",
      "72.0        8\n",
      "180.0       8\n",
      "108.0       8\n",
      "120.0       7\n",
      "16.0        7\n",
      "80.0        6\n",
      "200.0       6\n",
      "106.0       6\n",
      "340.0       6\n",
      "170.0       5\n",
      "132.0       5\n",
      "360.0       5\n",
      "84.0        5\n",
      "320.0       5\n",
      "100.0       4\n",
      "196.0       4\n",
      "246.0       4\n",
      "216.0       4\n",
      "160.0       4\n",
      "183.0       4\n",
      "178.0       4\n",
      "270.0       4\n",
      "300.0       4\n",
      "210.0       4\n",
      "268.0       4\n",
      "252.0       4\n",
      "168.0       4\n",
      "336.0       4\n",
      "220.0       4\n",
      "         ... \n",
      "14.0        1\n",
      "53.0        1\n",
      "24.0        1\n",
      "127.0       1\n",
      "365.0       1\n",
      "115.0       1\n",
      "562.0       1\n",
      "259.0       1\n",
      "378.0       1\n",
      "219.0       1\n",
      "161.0       1\n",
      "247.0       1\n",
      "109.0       1\n",
      "278.0       1\n",
      "375.0       1\n",
      "225.0       1\n",
      "604.0       1\n",
      "762.0       1\n",
      "290.0       1\n",
      "299.0       1\n",
      "202.0       1\n",
      "731.0       1\n",
      "167.0       1\n",
      "309.0       1\n",
      "1129.0      1\n",
      "651.0       1\n",
      "337.0       1\n",
      "415.0       1\n",
      "293.0       1\n",
      "621.0       1\n",
      "Name: MasVnrArea, Length: 327, dtype: int64 1460\n"
     ]
    }
   ],
   "source": [
    "print(exploreData(test_data, 'MasVnrArea'), len(test_data))\n",
    "print(exploreData(train_data, 'MasVnrArea'), len(train_data))"
   ]
  },
  {
   "cell_type": "code",
   "execution_count": 27,
   "metadata": {},
   "outputs": [],
   "source": [
    "imputation(test_data, 'MasVnrArea', 0.0)\n",
    "imputation(train_data, 'MasVnrArea', 0.0)"
   ]
  },
  {
   "cell_type": "code",
   "execution_count": 28,
   "metadata": {
    "scrolled": true
   },
   "outputs": [
    {
     "name": "stdout",
     "output_type": "stream",
     "text": [
      "0.0       462\n",
      "24.0       15\n",
      "276.0       6\n",
      "602.0       6\n",
      "300.0       5\n",
      "758.0       5\n",
      "16.0        5\n",
      "288.0       5\n",
      "330.0       4\n",
      "624.0       4\n",
      "476.0       4\n",
      "864.0       4\n",
      "544.0       4\n",
      "600.0       4\n",
      "468.0       4\n",
      "384.0       4\n",
      "456.0       4\n",
      "700.0       4\n",
      "375.0       4\n",
      "915.0       4\n",
      "60.0        4\n",
      "252.0       4\n",
      "500.0       4\n",
      "368.0       4\n",
      "779.0       3\n",
      "435.0       3\n",
      "800.0       3\n",
      "637.0       3\n",
      "36.0        3\n",
      "68.0        3\n",
      "         ... \n",
      "388.0       1\n",
      "286.0       1\n",
      "568.0       1\n",
      "417.0       1\n",
      "362.0       1\n",
      "134.0       1\n",
      "1200.0      1\n",
      "552.0       1\n",
      "994.0       1\n",
      "460.0       1\n",
      "262.0       1\n",
      "1104.0      1\n",
      "332.0       1\n",
      "728.0       1\n",
      "492.0       1\n",
      "261.0       1\n",
      "154.0       1\n",
      "1048.0      1\n",
      "1129.0      1\n",
      "438.0       1\n",
      "908.0       1\n",
      "1080.0      1\n",
      "924.0       1\n",
      "234.0       1\n",
      "324.0       1\n",
      "278.0       1\n",
      "210.0       1\n",
      "580.0       1\n",
      "1328.0      1\n",
      "771.0       1\n",
      "Name: BsmtFinSF1, Length: 669, dtype: int64 1459\n"
     ]
    }
   ],
   "source": [
    "print(exploreData(test_data, 'BsmtFinSF1'), len(test_data))"
   ]
  },
  {
   "cell_type": "code",
   "execution_count": 29,
   "metadata": {
    "scrolled": true
   },
   "outputs": [
    {
     "name": "stdout",
     "output_type": "stream",
     "text": [
      "0.0       1278\n",
      "162.0        3\n",
      "294.0        3\n",
      "483.0        3\n",
      "144.0        2\n",
      "288.0        2\n",
      "590.0        2\n",
      "596.0        2\n",
      "435.0        2\n",
      "116.0        2\n",
      "72.0         2\n",
      "270.0        2\n",
      "247.0        2\n",
      "159.0        2\n",
      "60.0         2\n",
      "42.0         2\n",
      "168.0        2\n",
      "252.0        2\n",
      "465.0        1\n",
      "691.0        1\n",
      "841.0        1\n",
      "1526.0       1\n",
      "344.0        1\n",
      "761.0        1\n",
      "259.0        1\n",
      "393.0        1\n",
      "474.0        1\n",
      "613.0        1\n",
      "774.0        1\n",
      "522.0        1\n",
      "          ... \n",
      "174.0        1\n",
      "859.0        1\n",
      "755.0        1\n",
      "799.0        1\n",
      "497.0        1\n",
      "419.0        1\n",
      "373.0        1\n",
      "679.0        1\n",
      "273.0        1\n",
      "543.0        1\n",
      "202.0        1\n",
      "95.0         1\n",
      "492.0        1\n",
      "382.0        1\n",
      "904.0        1\n",
      "105.0        1\n",
      "127.0        1\n",
      "210.0        1\n",
      "154.0        1\n",
      "138.0        1\n",
      "748.0        1\n",
      "404.0        1\n",
      "206.0        1\n",
      "278.0        1\n",
      "121.0        1\n",
      "308.0        1\n",
      "167.0        1\n",
      "186.0        1\n",
      "250.0        1\n",
      "750.0        1\n",
      "Name: BsmtFinSF2, Length: 161, dtype: int64 1459\n"
     ]
    }
   ],
   "source": [
    "print(exploreData(test_data, 'BsmtFinSF2'), len(test_data))"
   ]
  },
  {
   "cell_type": "code",
   "execution_count": 30,
   "metadata": {},
   "outputs": [],
   "source": [
    "imputation(test_data, 'BsmtFinSF2', 0.0)"
   ]
  },
  {
   "cell_type": "code",
   "execution_count": 31,
   "metadata": {
    "scrolled": true
   },
   "outputs": [
    {
     "name": "stdout",
     "output_type": "stream",
     "text": [
      "BsmtFinSF2  0.0     6.0     12.0    38.0    40.0    42.0    46.0    48.0    \\\n",
      "BsmtFinSF1                                                                   \n",
      "0.0            462       0       0       0       0       0       0       0   \n",
      "16.0             4       0       0       0       0       0       0       0   \n",
      "20.0             2       0       0       0       0       0       0       0   \n",
      "24.0            15       0       0       0       0       0       0       0   \n",
      "28.0             2       0       0       0       0       0       0       0   \n",
      "32.0             0       0       0       0       0       0       0       0   \n",
      "36.0             2       0       0       0       0       0       0       0   \n",
      "40.0             2       0       0       0       0       0       0       0   \n",
      "42.0             1       0       0       0       0       0       0       0   \n",
      "48.0             2       0       0       0       0       0       0       0   \n",
      "51.0             0       0       0       0       0       0       0       0   \n",
      "52.0             1       0       0       0       0       0       0       0   \n",
      "53.0             0       0       0       0       0       0       0       0   \n",
      "54.0             1       0       0       0       0       0       0       0   \n",
      "55.0             1       0       0       0       0       0       0       0   \n",
      "56.0             2       0       0       0       0       0       0       0   \n",
      "60.0             3       0       0       0       0       0       0       0   \n",
      "65.0             0       0       0       0       0       0       0       0   \n",
      "68.0             1       0       0       0       0       0       0       0   \n",
      "70.0             1       0       0       0       0       0       0       0   \n",
      "73.0             1       0       0       0       0       0       0       0   \n",
      "76.0             1       0       0       0       0       0       0       0   \n",
      "77.0             0       0       0       0       0       0       0       0   \n",
      "78.0             1       0       0       0       0       0       0       0   \n",
      "80.0             2       0       0       0       0       0       0       0   \n",
      "81.0             0       0       0       0       0       0       0       0   \n",
      "85.0             0       0       0       0       0       0       0       0   \n",
      "88.0             0       0       0       0       0       0       0       0   \n",
      "96.0             1       0       0       0       0       0       0       0   \n",
      "100.0            0       0       0       0       0       0       0       0   \n",
      "...            ...     ...     ...     ...     ...     ...     ...     ...   \n",
      "1531.0           1       0       0       0       0       0       0       0   \n",
      "1538.0           1       0       0       0       0       0       0       0   \n",
      "1557.0           1       0       0       0       0       0       0       0   \n",
      "1558.0           1       0       0       0       0       0       0       0   \n",
      "1562.0           1       0       0       0       0       0       0       0   \n",
      "1564.0           1       0       0       0       0       0       0       0   \n",
      "1571.0           1       0       0       0       0       0       0       0   \n",
      "1572.0           1       0       0       0       0       0       0       0   \n",
      "1573.0           2       0       0       0       0       0       0       0   \n",
      "1576.0           1       0       0       0       0       0       0       0   \n",
      "1593.0           0       0       0       0       0       0       0       0   \n",
      "1632.0           0       0       0       0       0       0       0       0   \n",
      "1640.0           1       0       0       0       0       0       0       0   \n",
      "1660.0           1       0       0       0       0       0       0       0   \n",
      "1682.0           1       0       0       0       0       0       0       0   \n",
      "1684.0           1       0       0       0       0       0       0       0   \n",
      "1728.0           0       0       0       0       0       0       0       0   \n",
      "1732.0           1       0       0       0       0       0       0       0   \n",
      "1733.0           0       0       0       0       0       0       0       0   \n",
      "1758.0           1       0       0       0       0       0       0       0   \n",
      "1812.0           1       0       0       0       0       0       0       0   \n",
      "1836.0           1       0       0       0       0       0       0       0   \n",
      "1965.0           1       0       0       0       0       0       0       0   \n",
      "1972.0           1       0       0       0       0       0       0       0   \n",
      "2085.0           1       0       0       0       0       0       0       0   \n",
      "2146.0           1       0       0       0       0       0       0       0   \n",
      "2158.0           1       0       0       0       0       0       0       0   \n",
      "2257.0           1       0       0       0       0       0       0       0   \n",
      "2288.0           1       0       0       0       0       0       0       0   \n",
      "4010.0           1       0       0       0       0       0       0       0   \n",
      "\n",
      "BsmtFinSF2  52.0    60.0     ...    981.0   982.0   1020.0  1037.0  1039.0  \\\n",
      "BsmtFinSF1                   ...                                             \n",
      "0.0              0       0   ...         0       0       0       0       0   \n",
      "16.0             0       0   ...         0       0       0       0       0   \n",
      "20.0             0       0   ...         0       0       0       0       0   \n",
      "24.0             0       0   ...         0       0       0       0       0   \n",
      "28.0             0       0   ...         0       0       0       0       0   \n",
      "32.0             0       0   ...         0       0       0       0       0   \n",
      "36.0             0       0   ...         0       0       0       0       0   \n",
      "40.0             0       0   ...         0       0       0       0       0   \n",
      "42.0             0       0   ...         0       0       0       0       0   \n",
      "48.0             0       0   ...         0       0       0       0       0   \n",
      "51.0             0       0   ...         0       0       0       0       0   \n",
      "52.0             0       0   ...         0       0       0       0       0   \n",
      "53.0             0       0   ...         0       0       0       0       0   \n",
      "54.0             0       0   ...         0       0       0       0       0   \n",
      "55.0             0       0   ...         0       0       0       0       0   \n",
      "56.0             0       0   ...         0       0       0       0       0   \n",
      "60.0             0       0   ...         0       0       0       0       0   \n",
      "65.0             0       0   ...         0       0       0       0       0   \n",
      "68.0             0       0   ...         0       0       0       0       0   \n",
      "70.0             0       0   ...         0       0       0       0       0   \n",
      "73.0             0       0   ...         0       0       0       0       0   \n",
      "76.0             0       0   ...         0       0       0       0       0   \n",
      "77.0             0       0   ...         0       0       0       0       0   \n",
      "78.0             0       0   ...         0       0       0       0       0   \n",
      "80.0             0       0   ...         0       0       0       0       0   \n",
      "81.0             0       0   ...         0       0       0       0       0   \n",
      "85.0             0       0   ...         0       0       0       0       0   \n",
      "88.0             0       0   ...         0       0       0       0       0   \n",
      "96.0             0       0   ...         0       0       0       0       0   \n",
      "100.0            0       0   ...         0       0       0       0       0   \n",
      "...            ...     ...   ...       ...     ...     ...     ...     ...   \n",
      "1531.0           0       0   ...         0       0       0       0       0   \n",
      "1538.0           0       0   ...         0       0       0       0       0   \n",
      "1557.0           0       0   ...         0       0       0       0       0   \n",
      "1558.0           0       0   ...         0       0       0       0       0   \n",
      "1562.0           0       0   ...         0       0       0       0       0   \n",
      "1564.0           0       0   ...         0       0       0       0       0   \n",
      "1571.0           0       0   ...         0       0       0       0       0   \n",
      "1572.0           0       0   ...         0       0       0       0       0   \n",
      "1573.0           0       0   ...         0       0       0       0       0   \n",
      "1576.0           0       0   ...         0       0       0       0       0   \n",
      "1593.0           0       0   ...         0       0       0       0       0   \n",
      "1632.0           0       0   ...         0       0       0       0       0   \n",
      "1640.0           0       0   ...         0       0       0       0       0   \n",
      "1660.0           0       0   ...         0       0       0       0       0   \n",
      "1682.0           0       0   ...         0       0       0       0       0   \n",
      "1684.0           0       0   ...         0       0       0       0       0   \n",
      "1728.0           0       0   ...         0       0       0       0       0   \n",
      "1732.0           0       0   ...         0       0       0       0       0   \n",
      "1733.0           0       0   ...         0       0       0       0       0   \n",
      "1758.0           0       0   ...         0       0       0       0       0   \n",
      "1812.0           0       0   ...         0       0       0       0       0   \n",
      "1836.0           0       0   ...         0       0       0       0       0   \n",
      "1965.0           0       0   ...         0       0       0       0       0   \n",
      "1972.0           0       0   ...         0       0       0       0       0   \n",
      "2085.0           0       0   ...         0       0       0       0       0   \n",
      "2146.0           0       0   ...         0       0       0       0       0   \n",
      "2158.0           0       0   ...         0       0       0       0       0   \n",
      "2257.0           0       0   ...         0       0       0       0       0   \n",
      "2288.0           0       0   ...         0       0       0       0       0   \n",
      "4010.0           0       0   ...         0       0       0       0       0   \n",
      "\n",
      "BsmtFinSF2  1073.0  1083.0  1164.0  1393.0  1526.0  \n",
      "BsmtFinSF1                                          \n",
      "0.0              0       0       0       0       0  \n",
      "16.0             0       0       0       0       0  \n",
      "20.0             0       0       0       0       0  \n",
      "24.0             0       0       0       0       0  \n",
      "28.0             0       0       0       0       0  \n",
      "32.0             0       0       0       0       0  \n",
      "36.0             0       0       0       0       0  \n",
      "40.0             0       0       0       0       0  \n",
      "42.0             0       0       0       0       0  \n",
      "48.0             0       0       0       0       0  \n",
      "51.0             0       0       0       0       0  \n",
      "52.0             0       0       0       0       0  \n",
      "53.0             0       0       0       0       0  \n",
      "54.0             0       0       0       0       0  \n",
      "55.0             0       0       0       0       0  \n",
      "56.0             0       0       0       0       0  \n",
      "60.0             0       0       0       0       0  \n",
      "65.0             0       0       0       0       0  \n",
      "68.0             0       0       0       0       0  \n",
      "70.0             0       0       0       0       0  \n",
      "73.0             0       0       0       0       0  \n",
      "76.0             0       0       0       0       0  \n",
      "77.0             0       0       0       0       0  \n",
      "78.0             0       0       0       0       0  \n",
      "80.0             0       0       0       0       0  \n",
      "81.0             0       0       0       0       0  \n",
      "85.0             0       0       0       0       0  \n",
      "88.0             0       0       0       0       0  \n",
      "96.0             0       0       0       0       0  \n",
      "100.0            0       0       0       0       0  \n",
      "...            ...     ...     ...     ...     ...  \n",
      "1531.0           0       0       0       0       0  \n",
      "1538.0           0       0       0       0       0  \n",
      "1557.0           0       0       0       0       0  \n",
      "1558.0           0       0       0       0       0  \n",
      "1562.0           0       0       0       0       0  \n",
      "1564.0           0       0       0       0       0  \n",
      "1571.0           0       0       0       0       0  \n",
      "1572.0           0       0       0       0       0  \n",
      "1573.0           0       0       0       0       0  \n",
      "1576.0           0       0       0       0       0  \n",
      "1593.0           0       0       0       0       0  \n",
      "1632.0           0       0       0       0       0  \n",
      "1640.0           0       0       0       0       0  \n",
      "1660.0           0       0       0       0       0  \n",
      "1682.0           0       0       0       0       0  \n",
      "1684.0           0       0       0       0       0  \n",
      "1728.0           0       0       0       0       0  \n",
      "1732.0           0       0       0       0       0  \n",
      "1733.0           0       0       0       0       0  \n",
      "1758.0           0       0       0       0       0  \n",
      "1812.0           0       0       0       0       0  \n",
      "1836.0           0       0       0       0       0  \n",
      "1965.0           0       0       0       0       0  \n",
      "1972.0           0       0       0       0       0  \n",
      "2085.0           0       0       0       0       0  \n",
      "2146.0           0       0       0       0       0  \n",
      "2158.0           0       0       0       0       0  \n",
      "2257.0           0       0       0       0       0  \n",
      "2288.0           0       0       0       0       0  \n",
      "4010.0           0       0       0       0       0  \n",
      "\n",
      "[669 rows x 161 columns]\n"
     ]
    }
   ],
   "source": [
    "print(pd.crosstab(test_data.BsmtFinSF1, test_data.BsmtFinSF2))"
   ]
  },
  {
   "cell_type": "code",
   "execution_count": 32,
   "metadata": {},
   "outputs": [],
   "source": [
    "imputation(test_data, 'BsmtFinSF1', 0.0)"
   ]
  },
  {
   "cell_type": "code",
   "execution_count": 33,
   "metadata": {},
   "outputs": [
    {
     "name": "stdout",
     "output_type": "stream",
     "text": [
      "0.0       123\n",
      "384.0      11\n",
      "624.0       8\n",
      "480.0       7\n",
      "100.0       7\n",
      "672.0       7\n",
      "348.0       7\n",
      "738.0       7\n",
      "120.0       6\n",
      "216.0       6\n",
      "784.0       6\n",
      "294.0       6\n",
      "816.0       6\n",
      "322.0       5\n",
      "728.0       5\n",
      "546.0       5\n",
      "525.0       5\n",
      "585.0       5\n",
      "226.0       5\n",
      "228.0       5\n",
      "30.0        5\n",
      "832.0       5\n",
      "240.0       5\n",
      "150.0       5\n",
      "768.0       5\n",
      "186.0       5\n",
      "600.0       5\n",
      "396.0       5\n",
      "456.0       5\n",
      "306.0       5\n",
      "         ... \n",
      "1270.0      1\n",
      "129.0       1\n",
      "390.0       1\n",
      "161.0       1\n",
      "1105.0      1\n",
      "1214.0      1\n",
      "470.0       1\n",
      "290.0       1\n",
      "747.0       1\n",
      "613.0       1\n",
      "615.0       1\n",
      "1146.0      1\n",
      "1694.0      1\n",
      "809.0       1\n",
      "577.0       1\n",
      "1721.0      1\n",
      "2140.0      1\n",
      "1090.0      1\n",
      "1254.0      1\n",
      "354.0       1\n",
      "671.0       1\n",
      "1043.0      1\n",
      "1153.0      1\n",
      "1335.0      1\n",
      "1324.0      1\n",
      "406.0       1\n",
      "1604.0      1\n",
      "1369.0      1\n",
      "549.0       1\n",
      "1211.0      1\n",
      "Name: BsmtUnfSF, Length: 793, dtype: int64 1459\n"
     ]
    }
   ],
   "source": [
    "print(exploreData(test_data, 'BsmtUnfSF'), len(test_data))"
   ]
  },
  {
   "cell_type": "code",
   "execution_count": 34,
   "metadata": {},
   "outputs": [],
   "source": [
    "# calculate weighted average\n",
    "def weightedAvg(data, col):\n",
    "    tmp = exploreData(data, col)\n",
    "    return sum(tmp.index * tmp.values)/sum(tmp.values)"
   ]
  },
  {
   "cell_type": "code",
   "execution_count": 35,
   "metadata": {},
   "outputs": [],
   "source": [
    "imputation(test_data, 'BsmtUnfSF', round(weightedAvg(test_data, 'BsmtUnfSF')))"
   ]
  },
  {
   "cell_type": "code",
   "execution_count": 36,
   "metadata": {},
   "outputs": [],
   "source": [
    "test_data = test_data.drop(['TotalBsmtSF'], axis=1)\n",
    "train_data = train_data.drop(['TotalBsmtSF'], axis=1)"
   ]
  },
  {
   "cell_type": "code",
   "execution_count": 37,
   "metadata": {},
   "outputs": [
    {
     "name": "stdout",
     "output_type": "stream",
     "text": [
      "0.0    849\n",
      "1.0    584\n",
      "2.0     23\n",
      "3.0      1\n",
      "Name: BsmtFullBath, dtype: int64 1459\n"
     ]
    }
   ],
   "source": [
    "print(exploreData(test_data, 'BsmtFullBath'), len(test_data))"
   ]
  },
  {
   "cell_type": "code",
   "execution_count": 38,
   "metadata": {},
   "outputs": [],
   "source": [
    "imputation(test_data, 'BsmtFullBath', round(weightedAvg(test_data, 'BsmtFullBath')))"
   ]
  },
  {
   "cell_type": "code",
   "execution_count": 39,
   "metadata": {
    "scrolled": true
   },
   "outputs": [
    {
     "name": "stdout",
     "output_type": "stream",
     "text": [
      "0.0    1364\n",
      "1.0      91\n",
      "2.0       2\n",
      "Name: BsmtHalfBath, dtype: int64 1459\n"
     ]
    }
   ],
   "source": [
    "print(exploreData(test_data, 'BsmtHalfBath'), len(test_data))"
   ]
  },
  {
   "cell_type": "code",
   "execution_count": 40,
   "metadata": {},
   "outputs": [],
   "source": [
    "imputation(test_data, 'BsmtHalfBath', 0.0)"
   ]
  },
  {
   "cell_type": "code",
   "execution_count": 41,
   "metadata": {
    "scrolled": false
   },
   "outputs": [
    {
     "name": "stdout",
     "output_type": "stream",
     "text": [
      "SBrkr    1334\n",
      "FuseA      94\n",
      "FuseF      27\n",
      "FuseP       3\n",
      "Mix         1\n",
      "Name: Electrical, dtype: int64 1460\n"
     ]
    }
   ],
   "source": [
    "print(exploreData(train_data, 'Electrical'), len(train_data))"
   ]
  },
  {
   "cell_type": "code",
   "execution_count": 42,
   "metadata": {},
   "outputs": [],
   "source": [
    "imputation(train_data, 'Electrical', 'SBrkr')"
   ]
  },
  {
   "cell_type": "code",
   "execution_count": 43,
   "metadata": {},
   "outputs": [
    {
     "name": "stdout",
     "output_type": "stream",
     "text": [
      "TA    757\n",
      "Gd    565\n",
      "Ex    105\n",
      "Fa     31\n",
      "Name: KitchenQual, dtype: int64 1459\n"
     ]
    }
   ],
   "source": [
    "print(exploreData(test_data, 'KitchenQual'), len(test_data))"
   ]
  },
  {
   "cell_type": "code",
   "execution_count": 44,
   "metadata": {},
   "outputs": [],
   "source": [
    "imputation(test_data, 'KitchenQual', 'TA')"
   ]
  },
  {
   "cell_type": "code",
   "execution_count": 45,
   "metadata": {},
   "outputs": [
    {
     "name": "stdout",
     "output_type": "stream",
     "text": [
      "Typ     1357\n",
      "Min2      36\n",
      "Min1      34\n",
      "Mod       20\n",
      "Maj1       5\n",
      "Maj2       4\n",
      "Sev        1\n",
      "Name: Functional, dtype: int64 1459\n"
     ]
    }
   ],
   "source": [
    "print(exploreData(test_data, 'Functional'), len(test_data))"
   ]
  },
  {
   "cell_type": "code",
   "execution_count": 46,
   "metadata": {},
   "outputs": [],
   "source": [
    "imputation(test_data, 'Functional', 'Typ')"
   ]
  },
  {
   "cell_type": "code",
   "execution_count": 47,
   "metadata": {
    "scrolled": true
   },
   "outputs": [
    {
     "name": "stdout",
     "output_type": "stream",
     "text": [
      "2005.0    65\n",
      "2006.0    59\n",
      "2004.0    53\n",
      "2003.0    50\n",
      "2007.0    49\n",
      "1977.0    35\n",
      "1998.0    31\n",
      "1999.0    30\n",
      "2008.0    29\n",
      "1976.0    29\n",
      "2000.0    27\n",
      "2002.0    26\n",
      "1968.0    26\n",
      "1950.0    24\n",
      "1993.0    22\n",
      "2009.0    21\n",
      "1965.0    21\n",
      "1966.0    21\n",
      "1962.0    21\n",
      "1958.0    21\n",
      "2001.0    20\n",
      "1996.0    20\n",
      "1957.0    20\n",
      "1970.0    20\n",
      "1960.0    19\n",
      "1997.0    19\n",
      "1978.0    19\n",
      "1954.0    19\n",
      "1974.0    18\n",
      "1994.0    18\n",
      "          ..\n",
      "1922.0     5\n",
      "1936.0     5\n",
      "1916.0     5\n",
      "1931.0     4\n",
      "1945.0     4\n",
      "1935.0     4\n",
      "1928.0     4\n",
      "1946.0     4\n",
      "1982.0     4\n",
      "1938.0     3\n",
      "1921.0     3\n",
      "1924.0     3\n",
      "1910.0     3\n",
      "1952.0     3\n",
      "1932.0     3\n",
      "2010.0     3\n",
      "1923.0     3\n",
      "1937.0     2\n",
      "1934.0     2\n",
      "1918.0     2\n",
      "1947.0     2\n",
      "1929.0     2\n",
      "1914.0     2\n",
      "1915.0     2\n",
      "1942.0     2\n",
      "1908.0     1\n",
      "1927.0     1\n",
      "1933.0     1\n",
      "1900.0     1\n",
      "1906.0     1\n",
      "Name: GarageYrBlt, Length: 97, dtype: int64 1460\n"
     ]
    }
   ],
   "source": [
    "print(exploreData(train_data, 'GarageYrBlt'), len(train_data))"
   ]
  },
  {
   "cell_type": "code",
   "execution_count": 48,
   "metadata": {},
   "outputs": [
    {
     "name": "stdout",
     "output_type": "stream",
     "text": [
      "2005.0    77\n",
      "2007.0    66\n",
      "2006.0    56\n",
      "2004.0    46\n",
      "2003.0    42\n",
      "2008.0    32\n",
      "1977.0    31\n",
      "2000.0    28\n",
      "1993.0    27\n",
      "1950.0    27\n",
      "2002.0    27\n",
      "1998.0    27\n",
      "1956.0    25\n",
      "1997.0    25\n",
      "1999.0    24\n",
      "1978.0    22\n",
      "1968.0    22\n",
      "1958.0    21\n",
      "1967.0    21\n",
      "1994.0    21\n",
      "1976.0    21\n",
      "2001.0    21\n",
      "1979.0    20\n",
      "1996.0    20\n",
      "1920.0    19\n",
      "1930.0    19\n",
      "1959.0    19\n",
      "1975.0    19\n",
      "1954.0    18\n",
      "1966.0    18\n",
      "          ..\n",
      "1946.0     5\n",
      "1981.0     5\n",
      "1924.0     5\n",
      "1982.0     5\n",
      "1915.0     5\n",
      "1900.0     5\n",
      "1925.0     5\n",
      "1942.0     4\n",
      "1941.0     4\n",
      "1927.0     4\n",
      "1937.0     4\n",
      "1983.0     4\n",
      "1935.0     4\n",
      "1928.0     3\n",
      "1923.0     3\n",
      "1947.0     3\n",
      "1922.0     3\n",
      "1934.0     2\n",
      "1921.0     2\n",
      "1917.0     2\n",
      "1936.0     2\n",
      "2010.0     2\n",
      "1932.0     1\n",
      "1943.0     1\n",
      "2207.0     1\n",
      "1918.0     1\n",
      "1895.0     1\n",
      "1919.0     1\n",
      "1896.0     1\n",
      "1916.0     1\n",
      "Name: GarageYrBlt, Length: 97, dtype: int64 1459\n"
     ]
    }
   ],
   "source": [
    "print(exploreData(test_data, 'GarageYrBlt'), len(test_data))"
   ]
  },
  {
   "cell_type": "code",
   "execution_count": 49,
   "metadata": {},
   "outputs": [],
   "source": [
    "imputation(train_data, 'GarageYrBlt', round(weightedAvg(train_data, 'GarageYrBlt')))\n",
    "imputation(test_data, 'GarageYrBlt', round(weightedAvg(test_data, 'GarageYrBlt')))"
   ]
  },
  {
   "cell_type": "code",
   "execution_count": 50,
   "metadata": {},
   "outputs": [
    {
     "name": "stdout",
     "output_type": "stream",
     "text": [
      "2.0    770\n",
      "1.0    407\n",
      "3.0    193\n",
      "0.0     76\n",
      "4.0     11\n",
      "5.0      1\n",
      "Name: GarageCars, dtype: int64 1459\n"
     ]
    }
   ],
   "source": [
    "print(exploreData(test_data, 'GarageCars'), len(test_data))"
   ]
  },
  {
   "cell_type": "code",
   "execution_count": 51,
   "metadata": {},
   "outputs": [],
   "source": [
    "imputation(test_data, 'GarageCars', 2.0)"
   ]
  },
  {
   "cell_type": "code",
   "execution_count": 52,
   "metadata": {
    "scrolled": true
   },
   "outputs": [
    {
     "name": "stdout",
     "output_type": "stream",
     "text": [
      "0.0       76\n",
      "576.0     50\n",
      "440.0     47\n",
      "484.0     34\n",
      "400.0     33\n",
      "528.0     32\n",
      "240.0     31\n",
      "480.0     30\n",
      "308.0     28\n",
      "264.0     27\n",
      "288.0     23\n",
      "336.0     17\n",
      "280.0     14\n",
      "506.0     14\n",
      "462.0     13\n",
      "495.0     13\n",
      "384.0     12\n",
      "216.0     11\n",
      "286.0     11\n",
      "525.0     11\n",
      "420.0     10\n",
      "312.0     10\n",
      "624.0     10\n",
      "550.0      9\n",
      "504.0      9\n",
      "672.0      8\n",
      "478.0      8\n",
      "390.0      8\n",
      "470.0      7\n",
      "460.0      7\n",
      "          ..\n",
      "494.0      1\n",
      "404.0      1\n",
      "476.0      1\n",
      "412.0      1\n",
      "326.0      1\n",
      "1200.0     1\n",
      "332.0      1\n",
      "836.0      1\n",
      "760.0      1\n",
      "428.0      1\n",
      "283.0      1\n",
      "485.0      1\n",
      "543.0      1\n",
      "443.0      1\n",
      "569.0      1\n",
      "581.0      1\n",
      "787.0      1\n",
      "711.0      1\n",
      "1174.0     1\n",
      "609.0      1\n",
      "776.0      1\n",
      "904.0      1\n",
      "345.0      1\n",
      "619.0      1\n",
      "984.0      1\n",
      "364.0      1\n",
      "369.0      1\n",
      "316.0      1\n",
      "226.0      1\n",
      "353.0      1\n",
      "Name: GarageArea, Length: 459, dtype: int64 1459\n"
     ]
    }
   ],
   "source": [
    "print(exploreData(test_data, 'GarageArea'), len(test_data))"
   ]
  },
  {
   "cell_type": "code",
   "execution_count": 53,
   "metadata": {},
   "outputs": [],
   "source": [
    "imputation(test_data, 'GarageArea', round(weightedAvg(test_data, 'GarageArea')))"
   ]
  },
  {
   "cell_type": "code",
   "execution_count": 54,
   "metadata": {
    "scrolled": true
   },
   "outputs": [
    {
     "name": "stdout",
     "output_type": "stream",
     "text": [
      "WD       1258\n",
      "New       117\n",
      "COD        44\n",
      "ConLD      17\n",
      "CWD         8\n",
      "Oth         4\n",
      "ConLI       4\n",
      "Con         3\n",
      "ConLw       3\n",
      "Name: SaleType, dtype: int64 1459\n"
     ]
    }
   ],
   "source": [
    "print(exploreData(test_data, 'SaleType'), len(test_data))"
   ]
  },
  {
   "cell_type": "code",
   "execution_count": 55,
   "metadata": {},
   "outputs": [],
   "source": [
    "imputation(test_data, 'SaleType', 'WD')"
   ]
  },
  {
   "cell_type": "code",
   "execution_count": 56,
   "metadata": {
    "scrolled": true
   },
   "outputs": [
    {
     "name": "stdout",
     "output_type": "stream",
     "text": [
      "['Alley', 'BsmtQual', 'BsmtCond', 'BsmtExposure', 'BsmtFinType1', 'BsmtFinType2', 'FireplaceQu', 'GarageType', 'GarageFinish', 'GarageQual', 'GarageCond', 'PoolQC', 'Fence', 'MiscFeature'] 14\n",
      "['Alley', 'BsmtQual', 'BsmtCond', 'BsmtExposure', 'BsmtFinType1', 'BsmtFinType2', 'FireplaceQu', 'GarageType', 'GarageFinish', 'GarageQual', 'GarageCond', 'PoolQC', 'Fence', 'MiscFeature'] 14\n",
      "['GarageQual', 'Fence', 'BsmtQual', 'GarageCond', 'BsmtFinType2', 'GarageFinish', 'BsmtCond', 'GarageType', 'BsmtFinType1', 'BsmtExposure', 'PoolQC', 'MiscFeature', 'FireplaceQu', 'Alley'] 14\n"
     ]
    }
   ],
   "source": [
    "misTrain = countMissing(train_data)\n",
    "misTest = countMissing(test_data)\n",
    "misTotal = list(set().union(misTrain, misTest))\n",
    "print(misTrain, len(misTrain))\n",
    "print(misTest, len(misTest))\n",
    "print(misTotal, len(misTotal))"
   ]
  },
  {
   "cell_type": "code",
   "execution_count": 57,
   "metadata": {
    "scrolled": false
   },
   "outputs": [
    {
     "name": "stdout",
     "output_type": "stream",
     "text": [
      "{'int64': Index(['Id', 'MSSubClass', 'LotArea', 'OverallQual', 'OverallCond',\n",
      "       'YearBuilt', 'YearRemodAdd', '1stFlrSF', '2ndFlrSF', 'LowQualFinSF',\n",
      "       'GrLivArea', 'FullBath', 'HalfBath', 'BedroomAbvGr', 'KitchenAbvGr',\n",
      "       'TotRmsAbvGrd', 'Fireplaces', 'WoodDeckSF', 'OpenPorchSF',\n",
      "       'EnclosedPorch', '3SsnPorch', 'ScreenPorch', 'PoolArea', 'MiscVal',\n",
      "       'MoSold', 'YrSold'],\n",
      "      dtype='object'), 'float64': Index(['LotFrontage', 'MasVnrArea', 'BsmtFinSF1', 'BsmtFinSF2', 'BsmtUnfSF',\n",
      "       'BsmtFullBath', 'BsmtHalfBath', 'GarageYrBlt', 'GarageCars',\n",
      "       'GarageArea'],\n",
      "      dtype='object'), 'object': Index(['MSZoning', 'Street', 'Alley', 'LotShape', 'LandContour', 'Utilities',\n",
      "       'LotConfig', 'LandSlope', 'Neighborhood', 'Condition1', 'Condition2',\n",
      "       'BldgType', 'HouseStyle', 'RoofStyle', 'RoofMatl', 'Exterior1st',\n",
      "       'Exterior2nd', 'MasVnrType', 'ExterQual', 'ExterCond', 'Foundation',\n",
      "       'BsmtQual', 'BsmtCond', 'BsmtExposure', 'BsmtFinType1', 'BsmtFinType2',\n",
      "       'Heating', 'HeatingQC', 'CentralAir', 'Electrical', 'KitchenQual',\n",
      "       'Functional', 'FireplaceQu', 'GarageType', 'GarageFinish', 'GarageQual',\n",
      "       'GarageCond', 'PavedDrive', 'PoolQC', 'Fence', 'MiscFeature',\n",
      "       'SaleType', 'SaleCondition'],\n",
      "      dtype='object')}\n"
     ]
    }
   ],
   "source": [
    "# the codes in Module 5\n",
    "# let's start encoding categorical features\n",
    "tmp = test_data.columns.to_series().groupby(test_data.dtypes).groups\n",
    "print({k.name: v for k, v in tmp.items()})"
   ]
  },
  {
   "cell_type": "code",
   "execution_count": 58,
   "metadata": {},
   "outputs": [],
   "source": [
    "train_data = train_data.replace({'ExterQual': {'Ex': 5, 'Gd': 4, 'TA': 3, 'Fa': 2, 'Po': 1, np.NaN: 0}})\n",
    "test_data = test_data.replace({'ExterQual': {'Ex': 5, 'Gd': 4, 'TA': 3, 'Fa': 2, 'Po': 1, np.NaN: 0}})"
   ]
  },
  {
   "cell_type": "code",
   "execution_count": 59,
   "metadata": {},
   "outputs": [],
   "source": [
    "train_data = train_data.replace({'ExterCond': {'Ex': 5, 'Gd': 4, 'TA': 3, 'Fa': 2, 'Po': 1, np.NaN: 0}})\n",
    "test_data = test_data.replace({'ExterCond': {'Ex': 5, 'Gd': 4, 'TA': 3, 'Fa': 2, 'Po': 1, np.NaN: 0}})"
   ]
  },
  {
   "cell_type": "code",
   "execution_count": 60,
   "metadata": {},
   "outputs": [],
   "source": [
    "train_data = train_data.replace({'BsmtQual': {'Ex': 5, 'Gd': 4, 'TA': 3, 'Fa': 2, 'Po': 1, np.NaN: 0}})\n",
    "test_data = test_data.replace({'BsmtQual': {'Ex': 5, 'Gd': 4, 'TA': 3, 'Fa': 2, 'Po': 1, np.NaN: 0}})"
   ]
  },
  {
   "cell_type": "code",
   "execution_count": 61,
   "metadata": {},
   "outputs": [],
   "source": [
    "train_data = train_data.replace({'BsmtCond': {'Ex': 5, 'Gd': 4, 'TA': 3, 'Fa': 2, 'Po': 1, np.NaN: 0}})\n",
    "test_data = test_data.replace({'BsmtCond': {'Ex': 5, 'Gd': 4, 'TA': 3, 'Fa': 2, 'Po': 1, np.NaN: 0}})"
   ]
  },
  {
   "cell_type": "code",
   "execution_count": 62,
   "metadata": {},
   "outputs": [],
   "source": [
    "train_data = train_data.replace({'BsmtExposure': {'Gd': 4, 'Av': 3, 'Mn': 2, 'No': 1, np.NaN: 0}})\n",
    "test_data = test_data.replace({'BsmtExposure': {'Gd': 4, 'Av': 3, 'Mn': 2, 'No': 1, np.NaN: 0}})"
   ]
  },
  {
   "cell_type": "code",
   "execution_count": 63,
   "metadata": {},
   "outputs": [],
   "source": [
    "train_data = train_data.replace({'BsmtFinType1': {'GLQ': 6, 'ALQ': 5, 'BLQ': 4, 'Rec': 3, 'LwQ': 2, 'Unf': 1, np.NaN: 0}})\n",
    "test_data = test_data.replace({'BsmtFinType1': {'GLQ': 6, 'ALQ': 5, 'BLQ': 4, 'Rec': 3, 'LwQ': 2, 'Unf': 1, np.NaN: 0}})"
   ]
  },
  {
   "cell_type": "code",
   "execution_count": 64,
   "metadata": {},
   "outputs": [],
   "source": [
    "train_data = train_data.replace({'BsmtFinType2': {'GLQ': 6, 'ALQ': 5, 'BLQ': 4, 'Rec': 3, 'LwQ': 2, 'Unf': 1, np.NaN: 0}})\n",
    "test_data = test_data.replace({'BsmtFinType2': {'GLQ': 6, 'ALQ': 5, 'BLQ': 4, 'Rec': 3, 'LwQ': 2, 'Unf': 1, np.NaN: 0}})"
   ]
  },
  {
   "cell_type": "code",
   "execution_count": 65,
   "metadata": {},
   "outputs": [],
   "source": [
    "train_data = train_data.replace({'HeatingQC': {'Ex': 5, 'Gd': 4, 'TA': 3, 'Fa': 2, 'Po': 1, np.NaN: 0}})\n",
    "test_data = test_data.replace({'HeatingQC': {'Ex': 5, 'Gd': 4, 'TA': 3, 'Fa': 2, 'Po': 1, np.NaN: 0}})"
   ]
  },
  {
   "cell_type": "code",
   "execution_count": 66,
   "metadata": {},
   "outputs": [],
   "source": [
    "train_data = train_data.replace({'KitchenQual': {'Ex': 5, 'Gd': 4, 'TA': 3, 'Fa': 2, 'Po': 1, np.NaN: 0}})\n",
    "test_data = test_data.replace({'KitchenQual': {'Ex': 5, 'Gd': 4, 'TA': 3, 'Fa': 2, 'Po': 1, np.NaN: 0}})"
   ]
  },
  {
   "cell_type": "code",
   "execution_count": 67,
   "metadata": {},
   "outputs": [],
   "source": [
    "train_data = train_data.replace({'Functional': {'Typ': 8, 'Min1': 7, 'Min2': 6, 'Mod': 5, 'Maj1': 4, 'Maj2': 3, 'Sev': 2, 'Sal': 1, np.NaN: 0}})\n",
    "test_data = test_data.replace({'Functional': {'Typ': 8, 'Min1': 7, 'Min2': 6, 'Mod': 5, 'Maj1': 4, 'Maj2': 3, 'Sev': 2, 'Sal': 1, np.NaN: 0}})"
   ]
  },
  {
   "cell_type": "code",
   "execution_count": 68,
   "metadata": {},
   "outputs": [],
   "source": [
    "train_data = train_data.replace({'FireplaceQu': {'Ex': 5, 'Gd': 4, 'TA': 3, 'Fa': 2, 'Po': 1, np.NaN: 0}})\n",
    "test_data = test_data.replace({'FireplaceQu': {'Ex': 5, 'Gd': 4, 'TA': 3, 'Fa': 2, 'Po': 1, np.NaN: 0}})"
   ]
  },
  {
   "cell_type": "code",
   "execution_count": 69,
   "metadata": {},
   "outputs": [],
   "source": [
    "train_data = train_data.replace({'GarageFinish': {'Fin': 3, 'RFn': 2, 'Unf': 1, np.NaN: 0}})\n",
    "test_data = test_data.replace({'GarageFinish': {'Fin': 3, 'RFn': 2, 'Unf': 1, np.NaN: 0}})"
   ]
  },
  {
   "cell_type": "code",
   "execution_count": 70,
   "metadata": {},
   "outputs": [],
   "source": [
    "train_data = train_data.replace({'GarageQual': {'Ex': 5, 'Gd': 4, 'TA': 3, 'Fa': 2, 'Po': 1, np.NaN: 0}})\n",
    "test_data = test_data.replace({'GarageQual': {'Ex': 5, 'Gd': 4, 'TA': 3, 'Fa': 2, 'Po': 1, np.NaN: 0}})"
   ]
  },
  {
   "cell_type": "code",
   "execution_count": 71,
   "metadata": {},
   "outputs": [],
   "source": [
    "train_data = train_data.replace({'GarageCond': {'Ex': 5, 'Gd': 4, 'TA': 3, 'Fa': 2, 'Po': 1, np.NaN: 0}})\n",
    "test_data = test_data.replace({'GarageCond': {'Ex': 5, 'Gd': 4, 'TA': 3, 'Fa': 2, 'Po': 1, np.NaN: 0}})"
   ]
  },
  {
   "cell_type": "code",
   "execution_count": 72,
   "metadata": {},
   "outputs": [],
   "source": [
    "train_data = train_data.replace({'PavedDrive': {'Y': 3, 'P': 2, 'N': 1, np.NaN: 0}})\n",
    "test_data = test_data.replace({'PavedDrive': {'Y': 3, 'P': 2, 'N': 1, np.NaN: 0}})"
   ]
  },
  {
   "cell_type": "code",
   "execution_count": 73,
   "metadata": {},
   "outputs": [],
   "source": [
    "train_data = train_data.replace({'PoolQC': {'Ex': 5, 'Gd': 4, 'TA': 3, 'Fa': 2, 'Po': 1, np.NaN: 0}})\n",
    "test_data = test_data.replace({'PoolQC': {'Ex': 5, 'Gd': 4, 'TA': 3, 'Fa': 2, 'Po': 1, np.NaN: 0}})"
   ]
  },
  {
   "cell_type": "code",
   "execution_count": 74,
   "metadata": {},
   "outputs": [],
   "source": [
    "train_data = train_data.replace({'Fence': {'GdPrv': 4, 'MnPrv': 3, 'GdWo': 2, 'MnWw': 1, np.NaN: 0}})\n",
    "test_data = test_data.replace({'Fence': {'GdPrv': 4, 'MnPrv': 3, 'GdWo': 2, 'MnWw': 1, np.NaN: 0}})"
   ]
  },
  {
   "cell_type": "code",
   "execution_count": 75,
   "metadata": {},
   "outputs": [
    {
     "name": "stdout",
     "output_type": "stream",
     "text": [
      "BsmtFinSF1 float64 int64\n",
      "BsmtFinSF2 float64 int64\n",
      "BsmtUnfSF float64 int64\n",
      "BsmtFullBath float64 int64\n",
      "BsmtHalfBath float64 int64\n",
      "GarageCars float64 int64\n",
      "GarageArea float64 int64\n"
     ]
    }
   ],
   "source": [
    "for col in test_data.columns:\n",
    "    t1 = test_data[col].dtype\n",
    "    t2 = train_data[col].dtype\n",
    "    if t1 != t2:\n",
    "        print(col, t1, t2)"
   ]
  },
  {
   "cell_type": "code",
   "execution_count": 76,
   "metadata": {
    "scrolled": false
   },
   "outputs": [
    {
     "name": "stdout",
     "output_type": "stream",
     "text": [
      "{'int64': Index(['Id', 'MSSubClass', 'LotArea', 'OverallQual', 'OverallCond',\n",
      "       'YearBuilt', 'YearRemodAdd', 'ExterQual', 'ExterCond', 'BsmtQual',\n",
      "       'BsmtCond', 'BsmtExposure', 'BsmtFinType1', 'BsmtFinSF1',\n",
      "       'BsmtFinType2', 'BsmtFinSF2', 'BsmtUnfSF', 'HeatingQC', '1stFlrSF',\n",
      "       '2ndFlrSF', 'LowQualFinSF', 'GrLivArea', 'BsmtFullBath', 'BsmtHalfBath',\n",
      "       'FullBath', 'HalfBath', 'BedroomAbvGr', 'KitchenAbvGr', 'KitchenQual',\n",
      "       'TotRmsAbvGrd', 'Functional', 'Fireplaces', 'FireplaceQu',\n",
      "       'GarageFinish', 'GarageCars', 'GarageArea', 'GarageQual', 'GarageCond',\n",
      "       'PavedDrive', 'WoodDeckSF', 'OpenPorchSF', 'EnclosedPorch', '3SsnPorch',\n",
      "       'ScreenPorch', 'PoolArea', 'PoolQC', 'Fence', 'MiscVal', 'MoSold',\n",
      "       'YrSold'],\n",
      "      dtype='object'), 'float64': Index(['LotFrontage', 'MasVnrArea', 'GarageYrBlt'], dtype='object'), 'object': Index(['MSZoning', 'Street', 'Alley', 'LotShape', 'LandContour', 'Utilities',\n",
      "       'LotConfig', 'LandSlope', 'Neighborhood', 'Condition1', 'Condition2',\n",
      "       'BldgType', 'HouseStyle', 'RoofStyle', 'RoofMatl', 'Exterior1st',\n",
      "       'Exterior2nd', 'MasVnrType', 'Foundation', 'Heating', 'CentralAir',\n",
      "       'Electrical', 'GarageType', 'MiscFeature', 'SaleType', 'SaleCondition'],\n",
      "      dtype='object')}\n"
     ]
    }
   ],
   "source": [
    "# the codes in Module 5\n",
    "# let's start encoding categorical features\n",
    "tmp = train_data.columns.to_series().groupby(train_data.dtypes).groups\n",
    "print({k.name: v for k, v in tmp.items()})"
   ]
  },
  {
   "cell_type": "code",
   "execution_count": 77,
   "metadata": {},
   "outputs": [],
   "source": [
    "# feature list for one-hot encoding\n",
    "oneHotCol = ['MSSubClass', 'MSZoning', 'Street', 'Alley', 'LotShape', 'LandContour', 'Utilities',\n",
    "       'LotConfig', 'LandSlope', 'Neighborhood', 'Condition1', 'Condition2',\n",
    "       'BldgType', 'HouseStyle', 'RoofStyle', 'RoofMatl', 'Exterior1st',\n",
    "       'Exterior2nd', 'MasVnrType', 'Foundation', 'Heating', 'CentralAir',\n",
    "       'Electrical', 'Functional', 'GarageType', 'MiscFeature', 'SaleType',\n",
    "       'SaleCondition']\n",
    "# process each column in the list\n",
    "for cols in oneHotCol:\n",
    "    train_data = pd.concat((train_data, pd.get_dummies(train_data[cols], prefix=cols)), axis=1)\n",
    "    del train_data[cols]\n",
    "    test_data = pd.concat((test_data, pd.get_dummies(test_data[cols], prefix=cols)), axis=1)\n",
    "    del test_data[cols]"
   ]
  },
  {
   "cell_type": "code",
   "execution_count": 78,
   "metadata": {},
   "outputs": [
    {
     "data": {
      "text/plain": [
       "0       1\n",
       "1       1\n",
       "2       1\n",
       "3       1\n",
       "4       1\n",
       "5       1\n",
       "6       1\n",
       "7       1\n",
       "8       1\n",
       "9       1\n",
       "10      1\n",
       "11      1\n",
       "12      1\n",
       "13      1\n",
       "14      1\n",
       "15      1\n",
       "16      1\n",
       "17      1\n",
       "18      1\n",
       "19      1\n",
       "20      1\n",
       "21      1\n",
       "22      1\n",
       "23      1\n",
       "24      1\n",
       "25      1\n",
       "26      1\n",
       "27      1\n",
       "28      1\n",
       "29      1\n",
       "       ..\n",
       "1429    1\n",
       "1430    1\n",
       "1431    1\n",
       "1432    1\n",
       "1433    1\n",
       "1434    1\n",
       "1435    1\n",
       "1436    1\n",
       "1437    1\n",
       "1438    1\n",
       "1439    1\n",
       "1440    1\n",
       "1441    1\n",
       "1442    1\n",
       "1443    1\n",
       "1444    1\n",
       "1445    1\n",
       "1446    1\n",
       "1447    1\n",
       "1448    1\n",
       "1449    1\n",
       "1450    1\n",
       "1451    1\n",
       "1452    1\n",
       "1453    1\n",
       "1454    1\n",
       "1455    1\n",
       "1456    1\n",
       "1457    1\n",
       "1458    1\n",
       "Name: Utilities_AllPub, Length: 1459, dtype: uint8"
      ]
     },
     "execution_count": 78,
     "metadata": {},
     "output_type": "execute_result"
    }
   ],
   "source": [
    "test_data['Utilities_AllPub']"
   ]
  },
  {
   "cell_type": "code",
   "execution_count": 79,
   "metadata": {},
   "outputs": [],
   "source": [
    "# feature alignment\n",
    "# for training set\n",
    "col_train = train_data.columns\n",
    "col_test = test_data.columns\n",
    "for index in col_train:\n",
    "    if index in col_test:\n",
    "        pass\n",
    "    else:\n",
    "        del train_data[index]\n",
    "# for testing set\n",
    "col_train = train_data.columns\n",
    "col_test = test_data.columns\n",
    "for index in col_test:\n",
    "    if index in col_train:\n",
    "        pass\n",
    "    else:\n",
    "        del test_data[index]"
   ]
  },
  {
   "cell_type": "code",
   "execution_count": 80,
   "metadata": {},
   "outputs": [
    {
     "data": {
      "text/plain": [
       "0       1\n",
       "1       1\n",
       "2       1\n",
       "3       1\n",
       "4       1\n",
       "5       1\n",
       "6       1\n",
       "7       1\n",
       "8       1\n",
       "9       1\n",
       "10      1\n",
       "11      1\n",
       "12      1\n",
       "13      1\n",
       "14      1\n",
       "15      1\n",
       "16      1\n",
       "17      1\n",
       "18      1\n",
       "19      1\n",
       "20      1\n",
       "21      1\n",
       "22      1\n",
       "23      1\n",
       "24      1\n",
       "25      1\n",
       "26      1\n",
       "27      1\n",
       "28      1\n",
       "29      1\n",
       "       ..\n",
       "1429    1\n",
       "1430    1\n",
       "1431    1\n",
       "1432    1\n",
       "1433    1\n",
       "1434    1\n",
       "1435    1\n",
       "1436    1\n",
       "1437    1\n",
       "1438    1\n",
       "1439    1\n",
       "1440    1\n",
       "1441    1\n",
       "1442    1\n",
       "1443    1\n",
       "1444    1\n",
       "1445    1\n",
       "1446    1\n",
       "1447    1\n",
       "1448    1\n",
       "1449    1\n",
       "1450    1\n",
       "1451    1\n",
       "1452    1\n",
       "1453    1\n",
       "1454    1\n",
       "1455    1\n",
       "1456    1\n",
       "1457    1\n",
       "1458    1\n",
       "Name: Utilities_AllPub, Length: 1459, dtype: uint8"
      ]
     },
     "execution_count": 80,
     "metadata": {},
     "output_type": "execute_result"
    }
   ],
   "source": [
    "test_data['Utilities_AllPub']"
   ]
  },
  {
   "cell_type": "code",
   "execution_count": 81,
   "metadata": {},
   "outputs": [],
   "source": [
    "# min-max scaling\n",
    "train_data = (train_data - train_data.min()) / (train_data.max() - train_data.min())\n",
    "test_data = (test_data - test_data.min()) / (test_data.max() - test_data.min())"
   ]
  },
  {
   "cell_type": "code",
   "execution_count": 82,
   "metadata": {},
   "outputs": [
    {
     "name": "stdout",
     "output_type": "stream",
     "text": [
      "[]\n",
      "['Utilities_AllPub']\n"
     ]
    }
   ],
   "source": [
    "# check if there is any missing value caused by min-max scaling\n",
    "misTrain = countMissing(train_data)\n",
    "misTest = countMissing(test_data)\n",
    "print(misTrain)\n",
    "print(misTest)"
   ]
  },
  {
   "cell_type": "code",
   "execution_count": 83,
   "metadata": {},
   "outputs": [],
   "source": [
    "imputation(test_data, 'Utilities_AllPub', 1)"
   ]
  },
  {
   "cell_type": "code",
   "execution_count": 2,
   "metadata": {},
   "outputs": [
    {
     "ename": "NameError",
     "evalue": "name 'train_data' is not defined",
     "output_type": "error",
     "traceback": [
      "\u001b[1;31m---------------------------------------------------------------------------\u001b[0m",
      "\u001b[1;31mNameError\u001b[0m                                 Traceback (most recent call last)",
      "\u001b[1;32m<ipython-input-2-035e2389fc35>\u001b[0m in \u001b[0;36m<module>\u001b[1;34m()\u001b[0m\n\u001b[0;32m      1\u001b[0m \u001b[1;31m# the codes in Module 6\u001b[0m\u001b[1;33m\u001b[0m\u001b[1;33m\u001b[0m\u001b[0m\n\u001b[0;32m      2\u001b[0m \u001b[1;31m# drop ``Id'' column\u001b[0m\u001b[1;33m\u001b[0m\u001b[1;33m\u001b[0m\u001b[0m\n\u001b[1;32m----> 3\u001b[1;33m \u001b[0mX\u001b[0m \u001b[1;33m=\u001b[0m \u001b[0mtrain_data\u001b[0m\u001b[1;33m.\u001b[0m\u001b[0mdrop\u001b[0m\u001b[1;33m(\u001b[0m\u001b[1;33m[\u001b[0m\u001b[1;34m'Id'\u001b[0m\u001b[1;33m]\u001b[0m\u001b[1;33m,\u001b[0m \u001b[0maxis\u001b[0m\u001b[1;33m=\u001b[0m\u001b[1;36m1\u001b[0m\u001b[1;33m)\u001b[0m\u001b[1;33m\u001b[0m\u001b[0m\n\u001b[0m\u001b[0;32m      4\u001b[0m \u001b[0mtest\u001b[0m \u001b[1;33m=\u001b[0m \u001b[0mtest_data\u001b[0m\u001b[1;33m.\u001b[0m\u001b[0mdrop\u001b[0m\u001b[1;33m(\u001b[0m\u001b[1;33m[\u001b[0m\u001b[1;34m'Id'\u001b[0m\u001b[1;33m]\u001b[0m\u001b[1;33m,\u001b[0m \u001b[0maxis\u001b[0m\u001b[1;33m=\u001b[0m\u001b[1;36m1\u001b[0m\u001b[1;33m)\u001b[0m\u001b[1;33m\u001b[0m\u001b[0m\n",
      "\u001b[1;31mNameError\u001b[0m: name 'train_data' is not defined"
     ]
    }
   ],
   "source": [
    "# the codes in Module 6\n",
    "# drop ``Id'' column\n",
    "X = train_data.drop(['Id'], axis=1)\n",
    "test = test_data.drop(['Id'], axis=1)"
   ]
  },
  {
   "cell_type": "code",
   "execution_count": 1,
   "metadata": {},
   "outputs": [
    {
     "ename": "NameError",
     "evalue": "name 'X' is not defined",
     "output_type": "error",
     "traceback": [
      "\u001b[1;31m---------------------------------------------------------------------------\u001b[0m",
      "\u001b[1;31mNameError\u001b[0m                                 Traceback (most recent call last)",
      "\u001b[1;32m<ipython-input-1-cc1a929cc258>\u001b[0m in \u001b[0;36m<module>\u001b[1;34m()\u001b[0m\n\u001b[1;32m----> 1\u001b[1;33m \u001b[0mX\u001b[0m\u001b[1;33m.\u001b[0m\u001b[0mdescribe\u001b[0m\u001b[1;33m(\u001b[0m\u001b[1;33m)\u001b[0m\u001b[1;33m\u001b[0m\u001b[0m\n\u001b[0m",
      "\u001b[1;31mNameError\u001b[0m: name 'X' is not defined"
     ]
    }
   ],
   "source": [
    "X.describe()"
   ]
  },
  {
   "cell_type": "code",
   "execution_count": 86,
   "metadata": {
    "scrolled": true
   },
   "outputs": [],
   "source": [
    "# train linear regression model\n",
    "from sklearn import linear_model\n",
    "lm = linear_model.LinearRegression()\n",
    "lm.fit(X, Y)\n",
    "res = lm.predict(test)"
   ]
  },
  {
   "cell_type": "code",
   "execution_count": 87,
   "metadata": {},
   "outputs": [
    {
     "name": "stdout",
     "output_type": "stream",
     "text": [
      "                  feature         score\n",
      "2             OverallQual  5.746098e-01\n",
      "21              GrLivArea  1.109955e-01\n",
      "18               1stFlrSF  3.826427e-02\n",
      "19               2ndFlrSF  3.649992e-02\n",
      "13             BsmtFinSF1  3.503030e-02\n",
      "34             GarageCars  2.269675e-02\n",
      "35             GarageArea  2.229894e-02\n",
      "1                 LotArea  1.231092e-02\n",
      "4               YearBuilt  1.081115e-02\n",
      "0             LotFrontage  8.040454e-03\n",
      "31            FireplaceQu  6.870741e-03\n",
      "5            YearRemodAdd  5.882382e-03\n",
      "39             WoodDeckSF  5.510788e-03\n",
      "24               FullBath  5.354637e-03\n",
      "6              MasVnrArea  5.265905e-03\n",
      "40            OpenPorchSF  5.086228e-03\n",
      "29           TotRmsAbvGrd  4.856944e-03\n",
      "16              BsmtUnfSF  4.763758e-03\n",
      "28            KitchenQual  4.576042e-03\n",
      "32            GarageYrBlt  4.078451e-03\n",
      "33           GarageFinish  4.006150e-03\n",
      "3             OverallCond  3.588914e-03\n",
      "9                BsmtQual  3.370043e-03\n",
      "48                 MoSold  3.277163e-03\n",
      "11           BsmtExposure  3.260447e-03\n",
      "208     GarageType_Attchd  3.007131e-03\n",
      "106  Neighborhood_NoRidge  2.927143e-03\n",
      "12           BsmtFinType1  2.786379e-03\n",
      "7               ExterQual  2.613835e-03\n",
      "212     GarageType_Detchd  2.305708e-03\n",
      "..                    ...           ...\n",
      "151      RoofMatl_WdShngl  2.104699e-06\n",
      "146     RoofStyle_Mansard  2.088803e-06\n",
      "198      Electrical_FuseP  1.782275e-06\n",
      "70            Street_Grvl  1.741427e-06\n",
      "82       Utilities_AllPub  1.450310e-06\n",
      "172   Exterior2nd_ImStucc  1.398082e-06\n",
      "156    Exterior1st_CBlock  1.309094e-06\n",
      "220        SaleType_ConLI  1.226021e-06\n",
      "92   Neighborhood_Blueste  1.064691e-06\n",
      "221        SaleType_ConLw  1.055122e-06\n",
      "188      Foundation_Stone  1.014321e-06\n",
      "149      RoofMatl_Tar&Grv  8.849004e-07\n",
      "90          LandSlope_Sev  8.748598e-07\n",
      "214      MiscFeature_Othr  8.298422e-07\n",
      "129       Condition2_PosN  8.121543e-07\n",
      "53          MSSubClass_45  7.689751e-07\n",
      "207     GarageType_2Types  3.187313e-07\n",
      "93    Neighborhood_BrDale  2.923496e-07\n",
      "150      RoofMatl_WdShake  1.691118e-07\n",
      "147        RoofStyle_Shed  1.603459e-07\n",
      "189       Foundation_Wood  1.391639e-07\n",
      "193          Heating_Wall  1.248121e-07\n",
      "217          SaleType_CWD  1.192618e-07\n",
      "124       Condition1_RRNn  6.443743e-08\n",
      "218          SaleType_Con  4.064591e-08\n",
      "213      MiscFeature_Gar2  3.429329e-08\n",
      "169    Exterior2nd_CBlock  1.516160e-08\n",
      "153   Exterior1st_AsphShn  6.263683e-09\n",
      "123       Condition1_RRNe  3.834595e-10\n",
      "128       Condition2_PosA  0.000000e+00\n",
      "\n",
      "[231 rows x 2 columns]\n"
     ]
    }
   ],
   "source": [
    "# get features importance scores from random forest\n",
    "from sklearn.ensemble import RandomForestRegressor\n",
    "rfe = RandomForestRegressor(n_estimators = 50)\n",
    "rfe.fit(X, Y)\n",
    "imp_score = rfe.feature_importances_\n",
    "imp_score = pd.DataFrame({'feature': X.columns, 'score': imp_score})\n",
    "print(imp_score.sort_values(by = 'score', ascending = False))"
   ]
  },
  {
   "cell_type": "code",
   "execution_count": 117,
   "metadata": {},
   "outputs": [],
   "source": [
    "# keep top 150 features according to feature importance score\n",
    "sel_feature = imp_score.sort_values(by = 'score', ascending = False).head(150)['feature']\n",
    "X_new = X[sel_feature]\n",
    "test_new = test[sel_feature]"
   ]
  },
  {
   "cell_type": "code",
   "execution_count": 118,
   "metadata": {},
   "outputs": [],
   "source": [
    "lm = linear_model.LinearRegression()\n",
    "lm.fit(X_new, Y)\n",
    "res = lm.predict(test_new)"
   ]
  },
  {
   "cell_type": "code",
   "execution_count": 119,
   "metadata": {},
   "outputs": [
    {
     "data": {
      "text/plain": [
       "0.021328541252132332"
      ]
     },
     "execution_count": 119,
     "metadata": {},
     "output_type": "execute_result"
    }
   ],
   "source": [
    "# get RMSE on training set\n",
    "np.mean((np.log(Y.values) - np.log(lm.predict(X_new)))**2)"
   ]
  },
  {
   "cell_type": "code",
   "execution_count": 120,
   "metadata": {},
   "outputs": [],
   "source": [
    "# ridge regression\n",
    "from sklearn.linear_model import Ridge\n",
    "rid = Ridge(alpha=1.0)\n",
    "rid.fit(X_new, Y)\n",
    "res = rid.predict(test_new)"
   ]
  },
  {
   "cell_type": "code",
   "execution_count": 121,
   "metadata": {},
   "outputs": [],
   "source": [
    "# lasso regression\n",
    "from sklearn.linear_model import Lasso\n",
    "las = Lasso(alpha=2.0)\n",
    "las.fit(X_new, Y)\n",
    "res = las.predict(test_new)"
   ]
  },
  {
   "cell_type": "code",
   "execution_count": 122,
   "metadata": {},
   "outputs": [
    {
     "name": "stdout",
     "output_type": "stream",
     "text": [
      "                 feature  weight\n",
      "2               1stFlrSF     0.0\n",
      "70       LandContour_Lvl     0.0\n",
      "123    RoofStyle_Gambrel    -0.0\n",
      "134  Exterior2nd_BrkFace    -0.0\n",
      "139           Alley_Grvl     0.0\n"
     ]
    }
   ],
   "source": [
    "# check the zero weight of features from lasso regression\n",
    "las.coef_\n",
    "las_weight = las.coef_\n",
    "las_weight = pd.DataFrame({'feature': X_new.columns, 'weight': las_weight})\n",
    "print(las_weight[las_weight['weight'] == 0])"
   ]
  },
  {
   "cell_type": "code",
   "execution_count": 123,
   "metadata": {},
   "outputs": [
    {
     "data": {
      "text/plain": [
       "0.8799760504356755"
      ]
     },
     "execution_count": 123,
     "metadata": {},
     "output_type": "execute_result"
    }
   ],
   "source": [
    "# R-squared\n",
    "lm.score(X_new, Y)"
   ]
  },
  {
   "cell_type": "code",
   "execution_count": 124,
   "metadata": {},
   "outputs": [
    {
     "data": {
      "text/plain": [
       "0.8788478003805987"
      ]
     },
     "execution_count": 124,
     "metadata": {},
     "output_type": "execute_result"
    }
   ],
   "source": [
    "rid.score(X_new, Y)"
   ]
  },
  {
   "cell_type": "code",
   "execution_count": 125,
   "metadata": {},
   "outputs": [
    {
     "data": {
      "text/plain": [
       "0.8799450750887086"
      ]
     },
     "execution_count": 125,
     "metadata": {},
     "output_type": "execute_result"
    }
   ],
   "source": [
    "las.score(X_new, Y)"
   ]
  },
  {
   "cell_type": "code",
   "execution_count": 126,
   "metadata": {
    "scrolled": false
   },
   "outputs": [
    {
     "name": "stdout",
     "output_type": "stream",
     "text": [
      "    parameter         score\n",
      "8      10.000 -1.046320e+09\n",
      "7       3.000 -1.052973e+09\n",
      "6       1.000 -1.096553e+09\n",
      "5       0.300 -1.137116e+09\n",
      "9      30.000 -1.147049e+09\n",
      "4       0.100 -1.157349e+09\n",
      "3       0.030 -1.166605e+09\n",
      "2       0.010 -1.169567e+09\n",
      "1       0.003 -1.170644e+09\n",
      "0       0.001 -1.170956e+09\n",
      "10    100.000 -1.451472e+09\n",
      "11    300.000 -1.964583e+09\n"
     ]
    }
   ],
   "source": [
    "# cross validation\n",
    "from sklearn import cross_validation\n",
    "alphas = [0.001, 0.003, 0.01, 0.03, 0.1, 0.3, 1.0, 3.0, 10, 30, 100, 300]\n",
    "scores = []\n",
    "for a in alphas:\n",
    "    rid = Ridge(alpha = a)\n",
    "    scores.append(cross_validation.cross_val_score(rid, X_new, Y, scoring=\"neg_mean_squared_error\", cv = 10).mean())\n",
    "scores = pd.DataFrame({'parameter': alphas, 'score': scores})\n",
    "print(scores.sort_values(by = 'score', ascending = False))"
   ]
  },
  {
   "cell_type": "code",
   "execution_count": 132,
   "metadata": {},
   "outputs": [
    {
     "name": "stdout",
     "output_type": "stream",
     "text": [
      "    parameter         score\n",
      "1         100 -1.028027e+09\n",
      "2         102 -1.028056e+09\n",
      "3         105 -1.028062e+09\n",
      "4         110 -1.028102e+09\n",
      "5         115 -1.028373e+09\n",
      "6         120 -1.028753e+09\n",
      "7         125 -1.029059e+09\n",
      "8         126 -1.029142e+09\n",
      "9         127 -1.029228e+09\n",
      "10        128 -1.029305e+09\n",
      "11        129 -1.029377e+09\n",
      "12        130 -1.029452e+09\n",
      "0          80 -1.030641e+09\n"
     ]
    }
   ],
   "source": [
    "# cross validation\n",
    "from sklearn import cross_validation\n",
    "#alphas = [0.001, 0.003, 0.01, 0.03, 0.1, 0.3, 1.0, 3.0, 10, 30, 60, 100, 200, 300]\n",
    "alphas = [80, 100, 102, 105, 110, 115, 120, 125, 126, 127, 128, 129, 130 ]\n",
    "scores = []\n",
    "for a in alphas:\n",
    "    las = Lasso(alpha = a)\n",
    "    scores.append(cross_validation.cross_val_score(las, X_new, Y, scoring=\"neg_mean_squared_error\", cv = 10).mean())\n",
    "scores = pd.DataFrame({'parameter': alphas, 'score': scores})\n",
    "print(scores.sort_values(by = 'score', ascending = False))"
   ]
  },
  {
   "cell_type": "code",
   "execution_count": 142,
   "metadata": {},
   "outputs": [],
   "source": [
    "# final linear regression models\n",
    "las = Lasso(alpha = 126.0)\n",
    "las.fit(X_new, Y)\n",
    "res = las.predict(test_new)"
   ]
  },
  {
   "cell_type": "code",
   "execution_count": 141,
   "metadata": {},
   "outputs": [],
   "source": [
    "# final linear regression models\n",
    "rid = Ridge(alpha = 3.0)\n",
    "rid.fit(X_new, Y)\n",
    "res = rid.predict(test_new)"
   ]
  },
  {
   "cell_type": "code",
   "execution_count": 143,
   "metadata": {},
   "outputs": [],
   "source": [
    "# random forest\n",
    "from sklearn.ensemble import RandomForestRegressor\n",
    "rfe = RandomForestRegressor(n_estimators = 1000)\n",
    "rfe.fit(X_new, Y)\n",
    "res = rfe.predict(test_new)"
   ]
  },
  {
   "cell_type": "code",
   "execution_count": 144,
   "metadata": {},
   "outputs": [],
   "source": [
    "# save predictions\n",
    "sample_data = pd.read_csv('C:/Users/hp/Documents/Kaggle class/house prices/sample_submission.csv')\n",
    "sample_data['SalePrice'] = res\n",
    "sample_data.to_csv('C:/Users/hp/Documents/Kaggle class/house prices/prediction.csv', index = False)"
   ]
  },
  {
   "cell_type": "code",
   "execution_count": null,
   "metadata": {},
   "outputs": [],
   "source": []
  },
  {
   "cell_type": "code",
   "execution_count": null,
   "metadata": {},
   "outputs": [],
   "source": []
  }
 ],
 "metadata": {
  "kernelspec": {
   "display_name": "Python 3",
   "language": "python",
   "name": "python3"
  },
  "language_info": {
   "codemirror_mode": {
    "name": "ipython",
    "version": 3
   },
   "file_extension": ".py",
   "mimetype": "text/x-python",
   "name": "python",
   "nbconvert_exporter": "python",
   "pygments_lexer": "ipython3",
   "version": "3.7.0"
  }
 },
 "nbformat": 4,
 "nbformat_minor": 2
}
